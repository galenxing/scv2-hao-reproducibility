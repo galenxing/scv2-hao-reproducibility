{
 "cells": [
  {
   "cell_type": "code",
   "execution_count": 11,
   "id": "together-ordering",
   "metadata": {},
   "outputs": [],
   "source": [
    "import anndata"
   ]
  },
  {
   "cell_type": "code",
   "execution_count": 12,
   "id": "studied-static",
   "metadata": {},
   "outputs": [],
   "source": [
    "full = anndata.read('round1round2_processed.h5ad')\n",
    "ts = anndata.read('popv_annotation/annotated_query.h5ad')"
   ]
  },
  {
   "cell_type": "code",
   "execution_count": 13,
   "id": "printable-arkansas",
   "metadata": {},
   "outputs": [
    {
     "data": {
      "text/plain": [
       "set()"
      ]
     },
     "execution_count": 13,
     "metadata": {},
     "output_type": "execute_result"
    }
   ],
   "source": [
    "set(full.var_names) - set(ts.var_names)"
   ]
  },
  {
   "cell_type": "code",
   "execution_count": 14,
   "id": "fiscal-alpha",
   "metadata": {},
   "outputs": [],
   "source": [
    "full.obs['ts_consensus_prediction'] = ts[full.obs_names].obs['consensus_prediction']\n",
    "full.obs['ts_consensus_percentage'] = ts[full.obs_names].obs['consensus_percentage']"
   ]
  },
  {
   "cell_type": "code",
   "execution_count": 15,
   "id": "liable-stone",
   "metadata": {},
   "outputs": [],
   "source": [
    "preds = [a for a in ts.obs.keys() if a.endswith('_pred')]"
   ]
  },
  {
   "cell_type": "code",
   "execution_count": 16,
   "id": "traditional-birth",
   "metadata": {},
   "outputs": [],
   "source": [
    "\n",
    "for pred in preds:\n",
    "    full.obs[pred] = ts[full.obs_names].obs[pred]\n",
    "    "
   ]
  },
  {
   "cell_type": "code",
   "execution_count": 17,
   "id": "loaded-charger",
   "metadata": {},
   "outputs": [
    {
     "data": {
      "text/plain": [
       "AnnData object with n_obs × n_vars = 38462 × 36611\n",
       "    obs: 'infection', 'variant', 'condition', 'library_size', 'library_size_log', 'SARS2_genome_ORF1ab_counts', 'SARS2_genome_ORF1ab_log', 'SARS2_genome_S_counts', 'SARS2_genome_S_log', 'SARS2_genome_ORF3a_counts', 'SARS2_genome_ORF3a_log', 'SARS2_genome_E_counts', 'SARS2_genome_E_log', 'SARS2_genome_M_counts', 'SARS2_genome_M_log', 'SARS2_genome_ORF6_counts', 'SARS2_genome_ORF6_log', 'SARS2_genome_ORF7a_counts', 'SARS2_genome_ORF7a_log', 'SARS2_genome_ORF8_counts', 'SARS2_genome_ORF8_log', 'SARS2_genome_N_counts', 'SARS2_genome_N_log', 'SARS2_genome_ORF10_counts', 'SARS2_genome_ORF10_log', 'sars2_total_counts', 'sars2_total_counts_log', 'sars2_lib_size_ratio', 'round', 'condition_variant', 'round_variant_condition', 'n_genes_by_counts', 'total_counts', 'total_counts_mt', 'pct_counts_mt', 'ts_consensus_prediction', 'ts_consensus_percentage', 'knn_on_bbknn_pred', 'knn_on_scvi_offline_pred', 'scanvi_offline_pred', 'svm_pred', 'rf_pred', 'onclass_pred', 'knn_on_scanorama_pred', '_scvi_batch', '_scvi_labels', 'infection_condition', 'gmm_3_infection_individual', 'gmm_3_infection_total', 'gmm_2_infection_individual', 'gmm_2_infection_total', 'gmm_infection'\n",
       "    var: 'mt', 'n_cells_by_counts', 'mean_counts', 'pct_dropout_by_counts', 'total_counts'\n",
       "    uns: '_scvi', 'hvg', 'infection_colors', 'neighbors', 'round_colors', 'umap', 'variant_colors'\n",
       "    obsm: 'X_scVI', 'X_umap'\n",
       "    obsp: 'connectivities', 'distances'"
      ]
     },
     "execution_count": 17,
     "metadata": {},
     "output_type": "execute_result"
    }
   ],
   "source": [
    "full"
   ]
  },
  {
   "cell_type": "code",
   "execution_count": 10,
   "id": "tight-software",
   "metadata": {},
   "outputs": [],
   "source": [
    "full.write('round1round2_processed.h5ad')"
   ]
  },
  {
   "cell_type": "code",
   "execution_count": null,
   "id": "resistant-anger",
   "metadata": {},
   "outputs": [],
   "source": []
  }
 ],
 "metadata": {
  "kernelspec": {
   "display_name": "Python 3.8.3 64-bit ('scvi-dev': venv)",
   "language": "python",
   "name": "python38364bitscvidevvenv4fb90fe562ab4b5189ac0b527fd52a97"
  },
  "language_info": {
   "codemirror_mode": {
    "name": "ipython",
    "version": 3
   },
   "file_extension": ".py",
   "mimetype": "text/x-python",
   "name": "python",
   "nbconvert_exporter": "python",
   "pygments_lexer": "ipython3",
   "version": "3.8.3"
  }
 },
 "nbformat": 4,
 "nbformat_minor": 5
}
