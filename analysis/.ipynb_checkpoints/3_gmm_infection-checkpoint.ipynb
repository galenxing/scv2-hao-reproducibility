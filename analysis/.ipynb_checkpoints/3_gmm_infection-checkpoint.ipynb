{
 "cells": [
  {
   "cell_type": "code",
   "execution_count": 81,
   "id": "biblical-editor",
   "metadata": {},
   "outputs": [],
   "source": [
    "import scvi\n",
    "import scanpy as sc\n",
    "import anndata\n",
    "import numpy as np\n",
    "import os\n",
    "import pandas as pd\n",
    "import matplotlib.pyplot as plt\n",
    "import sklearn"
   ]
  },
  {
   "cell_type": "code",
   "execution_count": 82,
   "id": "contained-green",
   "metadata": {},
   "outputs": [
    {
     "data": {
      "text/plain": [
       "'1.0.1'"
      ]
     },
     "execution_count": 82,
     "metadata": {},
     "output_type": "execute_result"
    }
   ],
   "source": [
    "sklearn.__version__"
   ]
  },
  {
   "cell_type": "code",
   "execution_count": 83,
   "id": "decreased-queue",
   "metadata": {},
   "outputs": [],
   "source": [
    "import warnings\n",
    "warnings.filterwarnings('ignore')"
   ]
  },
  {
   "cell_type": "code",
   "execution_count": 84,
   "id": "exclusive-hearts",
   "metadata": {},
   "outputs": [],
   "source": [
    "from sklearn.mixture import GaussianMixture\n",
    "\n",
    "def classify_with_gmm(x, n_components):\n",
    "    gm = GaussianMixture(n_components=n_components).fit(x)\n",
    "    return gm, gm.predict_proba(x), gm.means_\n",
    "\n",
    "def classify_infection(adata, genes, save_key, batch_key, n_components):\n",
    "    batches = list(np.unique(adata.obs[batch_key]))\n",
    "    probs_save_key = save_key+'_probs'\n",
    "    \n",
    "    adata.obs[save_key] = 'na'\n",
    "    adata.obsm[probs_save_key] = pd.DataFrame(index=adata.obs_names, data=np.zeros((adata.n_obs, n_components)))\n",
    "    bics={}\n",
    "    for batch in batches:\n",
    "        batch_adata = adata[adata.obs[batch_key] == batch]\n",
    "\n",
    "        probs = np.zeros((batch_adata.n_obs, n_components))\n",
    "        tmp_bics = []\n",
    "        for gene in genes:\n",
    "            x = np.array(batch_adata.obs[gene]).reshape(-1, 1)\n",
    "            gm, prob, means = classify_with_gmm(x, n_components=n_components)\n",
    "            bic = gm.bic(x)\n",
    "            \n",
    "            index = np.argsort(means.flatten())\n",
    "            prob[:] = prob[:, index]\n",
    "            probs = np.add(probs,prob)\n",
    "            tmp_bics.append(bic)\n",
    "            \n",
    "        bics[batch] = np.mean(np.array(tmp_bics))\n",
    "\n",
    "        adata.obs[save_key][batch_adata.obs_names] = np.argmax(probs, axis=1)\n",
    "        adata.obs[save_key] = adata.obs[save_key].astype(str)\n",
    "        adata.obsm[probs_save_key].loc[batch_adata.obs_names] = probs\n",
    "        \n",
    "    bics = pd.DataFrame.from_dict(bics, orient='index', columns=[save_key])\n",
    "    return bics"
   ]
  },
  {
   "cell_type": "code",
   "execution_count": 85,
   "id": "imperial-backup",
   "metadata": {},
   "outputs": [],
   "source": [
    "adata_fn = 'round1round2_processed.h5ad'\n",
    "\n",
    "adata = anndata.read(adata_fn)"
   ]
  },
  {
   "cell_type": "code",
   "execution_count": 86,
   "id": "standing-ending",
   "metadata": {},
   "outputs": [],
   "source": [
    "batch_key = \"round_variant_condition\"\n",
    "variants = list(np.unique(adata.obs[batch_key]))"
   ]
  },
  {
   "cell_type": "markdown",
   "id": "different-conjunction",
   "metadata": {},
   "source": [
    "# 3 components on each individual gene"
   ]
  },
  {
   "cell_type": "code",
   "execution_count": 87,
   "id": "facial-sound",
   "metadata": {},
   "outputs": [],
   "source": [
    "n_components = 3\n",
    "\n",
    "save_key='gmm_3_infection_individual'\n",
    "\n",
    "variants= list(np.unique(adata.obs[batch_key]))\n",
    "\n",
    "sars_genes = [g for g in adata.var_names if g.startswith('SARS2_genome')]\n",
    "sars_genes = [g+'_log' for g in sars_genes]\n",
    "\n",
    "bics_3_ind = classify_infection(adata=adata,\n",
    "                   genes=sars_genes, \n",
    "                   save_key=save_key,\n",
    "                   batch_key=batch_key,\n",
    "                   n_components=n_components\n",
    "                  )"
   ]
  },
  {
   "cell_type": "code",
   "execution_count": 88,
   "id": "statutory-coupon",
   "metadata": {},
   "outputs": [
    {
     "data": {
      "text/plain": [
       "AnnData object with n_obs × n_vars = 38462 × 36611\n",
       "    obs: 'infection', 'variant', 'condition', 'library_size', 'library_size_log', 'SARS2_genome_ORF1ab_counts', 'SARS2_genome_ORF1ab_log', 'SARS2_genome_S_counts', 'SARS2_genome_S_log', 'SARS2_genome_ORF3a_counts', 'SARS2_genome_ORF3a_log', 'SARS2_genome_E_counts', 'SARS2_genome_E_log', 'SARS2_genome_M_counts', 'SARS2_genome_M_log', 'SARS2_genome_ORF6_counts', 'SARS2_genome_ORF6_log', 'SARS2_genome_ORF7a_counts', 'SARS2_genome_ORF7a_log', 'SARS2_genome_ORF8_counts', 'SARS2_genome_ORF8_log', 'SARS2_genome_N_counts', 'SARS2_genome_N_log', 'SARS2_genome_ORF10_counts', 'SARS2_genome_ORF10_log', 'sars2_total_counts', 'sars2_total_counts_log', 'sars2_lib_size_ratio', 'round', 'condition_variant', 'round_variant_condition', 'n_genes_by_counts', 'total_counts', 'total_counts_mt', 'pct_counts_mt', 'ts_consensus_prediction', 'ts_consensus_percentage', 'knn_on_bbknn_pred', 'knn_on_scvi_offline_pred', 'scanvi_offline_pred', 'svm_pred', 'rf_pred', 'onclass_pred', 'knn_on_scanorama_pred', '_scvi_batch', '_scvi_labels', 'infection_condition', 'gmm_3_infection_individual'\n",
       "    var: 'mt', 'n_cells_by_counts', 'mean_counts', 'pct_dropout_by_counts', 'total_counts'\n",
       "    uns: '_scvi', 'hvg', 'infection_colors', 'neighbors', 'round_colors', 'umap', 'variant_colors'\n",
       "    obsm: 'X_scVI', 'X_umap', 'gmm_3_infection_individual_probs'\n",
       "    obsp: 'connectivities', 'distances'"
      ]
     },
     "execution_count": 88,
     "metadata": {},
     "output_type": "execute_result"
    }
   ],
   "source": [
    "adata"
   ]
  },
  {
   "cell_type": "code",
   "execution_count": 89,
   "id": "provincial-champion",
   "metadata": {},
   "outputs": [],
   "source": [
    "total_prob = adata.obsm['gmm_3_infection_individual_probs'].sum(axis=1)\n"
   ]
  },
  {
   "cell_type": "code",
   "execution_count": 90,
   "id": "greek-mountain",
   "metadata": {},
   "outputs": [
    {
     "data": {
      "text/plain": [
       "(array([ 1486.,  1165.,   970.,   682., 10107.,   518.,   840.,  8048.,\n",
       "         5012.,  9634.]),\n",
       " array([0.        , 0.09999983, 0.19999966, 0.29999949, 0.39999933,\n",
       "        0.49999916, 0.59999899, 0.69999882, 0.79999865, 0.89999848,\n",
       "        0.99999831]),\n",
       " <BarContainer object of 10 artists>)"
      ]
     },
     "execution_count": 90,
     "metadata": {},
     "output_type": "execute_result"
    },
    {
     "data": {
      "image/png": "[encoded data removed]",
      "text/plain": [
       "<Figure size 432x288 with 1 Axes>"
      ]
     },
     "metadata": {
      "needs_background": "light"
     },
     "output_type": "display_data"
    }
   ],
   "source": [
    "plt.hist(adata.obsm['gmm_3_infection_individual_probs'].divide(total_prob, axis=0)[0])"
   ]
  },
  {
   "cell_type": "code",
   "execution_count": 91,
   "id": "thrown-estonia",
   "metadata": {},
   "outputs": [
    {
     "data": {
      "text/html": [
       "<div>\n",
       "<style scoped>\n",
       "    .dataframe tbody tr th:only-of-type {\n",
       "        vertical-align: middle;\n",
       "    }\n",
       "\n",
       "    .dataframe tbody tr th {\n",
       "        vertical-align: top;\n",
       "    }\n",
       "\n",
       "    .dataframe thead th {\n",
       "        text-align: right;\n",
       "    }\n",
       "</style>\n",
       "<table border=\"1\" class=\"dataframe\">\n",
       "  <thead>\n",
       "    <tr style=\"text-align: right;\">\n",
       "      <th>gmm_3_infection_individual</th>\n",
       "      <th>0</th>\n",
       "      <th>1</th>\n",
       "      <th>2</th>\n",
       "    </tr>\n",
       "    <tr>\n",
       "      <th>round_variant_condition</th>\n",
       "      <th></th>\n",
       "      <th></th>\n",
       "      <th></th>\n",
       "    </tr>\n",
       "  </thead>\n",
       "  <tbody>\n",
       "    <tr>\n",
       "      <th>round_1_Uninfected_1_ACE2</th>\n",
       "      <td>0</td>\n",
       "      <td>9519</td>\n",
       "      <td>0</td>\n",
       "    </tr>\n",
       "    <tr>\n",
       "      <th>round_1_Uninfected_1_WT</th>\n",
       "      <td>4584</td>\n",
       "      <td>0</td>\n",
       "      <td>0</td>\n",
       "    </tr>\n",
       "    <tr>\n",
       "      <th>round_1_WA1_1_ACE2</th>\n",
       "      <td>5835</td>\n",
       "      <td>1486</td>\n",
       "      <td>644</td>\n",
       "    </tr>\n",
       "    <tr>\n",
       "      <th>round_1_WA1_1_WT</th>\n",
       "      <td>5702</td>\n",
       "      <td>2</td>\n",
       "      <td>75</td>\n",
       "    </tr>\n",
       "    <tr>\n",
       "      <th>round_2_B.1.1.7_ACE2</th>\n",
       "      <td>1438</td>\n",
       "      <td>32</td>\n",
       "      <td>218</td>\n",
       "    </tr>\n",
       "    <tr>\n",
       "      <th>round_2_B.1.351_ACE2</th>\n",
       "      <td>1757</td>\n",
       "      <td>109</td>\n",
       "      <td>266</td>\n",
       "    </tr>\n",
       "    <tr>\n",
       "      <th>round_2_B.1.351_delta_ACE2</th>\n",
       "      <td>1198</td>\n",
       "      <td>487</td>\n",
       "      <td>594</td>\n",
       "    </tr>\n",
       "    <tr>\n",
       "      <th>round_2_B.1.429_ACE2</th>\n",
       "      <td>1117</td>\n",
       "      <td>146</td>\n",
       "      <td>148</td>\n",
       "    </tr>\n",
       "    <tr>\n",
       "      <th>round_2_Uninfected_2_ACE2</th>\n",
       "      <td>1161</td>\n",
       "      <td>0</td>\n",
       "      <td>0</td>\n",
       "    </tr>\n",
       "    <tr>\n",
       "      <th>round_2_WA1_2_ACE2</th>\n",
       "      <td>1704</td>\n",
       "      <td>83</td>\n",
       "      <td>157</td>\n",
       "    </tr>\n",
       "  </tbody>\n",
       "</table>\n",
       "</div>"
      ],
      "text/plain": [
       "gmm_3_infection_individual     0     1    2\n",
       "round_variant_condition                    \n",
       "round_1_Uninfected_1_ACE2      0  9519    0\n",
       "round_1_Uninfected_1_WT     4584     0    0\n",
       "round_1_WA1_1_ACE2          5835  1486  644\n",
       "round_1_WA1_1_WT            5702     2   75\n",
       "round_2_B.1.1.7_ACE2        1438    32  218\n",
       "round_2_B.1.351_ACE2        1757   109  266\n",
       "round_2_B.1.351_delta_ACE2  1198   487  594\n",
       "round_2_B.1.429_ACE2        1117   146  148\n",
       "round_2_Uninfected_2_ACE2   1161     0    0\n",
       "round_2_WA1_2_ACE2          1704    83  157"
      ]
     },
     "execution_count": 91,
     "metadata": {},
     "output_type": "execute_result"
    }
   ],
   "source": [
    "adata.obs.groupby(['round_variant_condition', save_key]).size().unstack(level=1)"
   ]
  },
  {
   "cell_type": "markdown",
   "id": "mobile-suite",
   "metadata": {},
   "source": [
    "# 3 components on total sum"
   ]
  },
  {
   "cell_type": "code",
   "execution_count": 92,
   "id": "understood-robinson",
   "metadata": {},
   "outputs": [
    {
     "data": {
      "text/plain": [
       "AnnData object with n_obs × n_vars = 38462 × 36611\n",
       "    obs: 'infection', 'variant', 'condition', 'library_size', 'library_size_log', 'SARS2_genome_ORF1ab_counts', 'SARS2_genome_ORF1ab_log', 'SARS2_genome_S_counts', 'SARS2_genome_S_log', 'SARS2_genome_ORF3a_counts', 'SARS2_genome_ORF3a_log', 'SARS2_genome_E_counts', 'SARS2_genome_E_log', 'SARS2_genome_M_counts', 'SARS2_genome_M_log', 'SARS2_genome_ORF6_counts', 'SARS2_genome_ORF6_log', 'SARS2_genome_ORF7a_counts', 'SARS2_genome_ORF7a_log', 'SARS2_genome_ORF8_counts', 'SARS2_genome_ORF8_log', 'SARS2_genome_N_counts', 'SARS2_genome_N_log', 'SARS2_genome_ORF10_counts', 'SARS2_genome_ORF10_log', 'sars2_total_counts', 'sars2_total_counts_log', 'sars2_lib_size_ratio', 'round', 'condition_variant', 'round_variant_condition', 'n_genes_by_counts', 'total_counts', 'total_counts_mt', 'pct_counts_mt', 'ts_consensus_prediction', 'ts_consensus_percentage', 'knn_on_bbknn_pred', 'knn_on_scvi_offline_pred', 'scanvi_offline_pred', 'svm_pred', 'rf_pred', 'onclass_pred', 'knn_on_scanorama_pred', '_scvi_batch', '_scvi_labels', 'infection_condition', 'gmm_3_infection_individual'\n",
       "    var: 'mt', 'n_cells_by_counts', 'mean_counts', 'pct_dropout_by_counts', 'total_counts'\n",
       "    uns: '_scvi', 'hvg', 'infection_colors', 'neighbors', 'round_colors', 'umap', 'variant_colors'\n",
       "    obsm: 'X_scVI', 'X_umap', 'gmm_3_infection_individual_probs'\n",
       "    obsp: 'connectivities', 'distances'"
      ]
     },
     "execution_count": 92,
     "metadata": {},
     "output_type": "execute_result"
    }
   ],
   "source": [
    "adata"
   ]
  },
  {
   "cell_type": "code",
   "execution_count": 93,
   "id": "historical-solid",
   "metadata": {},
   "outputs": [],
   "source": [
    "n_components = 3\n",
    "\n",
    "save_key='gmm_3_infection_total'\n",
    "\n",
    "variants= list(np.unique(adata.obs[batch_key]))\n",
    "\n",
    "sars_genes = ['sars2_total_counts_log']\n",
    "bics_3_total = classify_infection(adata=adata,\n",
    "                   genes=sars_genes, \n",
    "                   save_key=save_key,\n",
    "                   batch_key=batch_key,\n",
    "                   n_components=n_components\n",
    "                  )"
   ]
  },
  {
   "cell_type": "markdown",
   "id": "divine-lyric",
   "metadata": {},
   "source": [
    "# 2 components on each individual gene"
   ]
  },
  {
   "cell_type": "code",
   "execution_count": 94,
   "id": "adjustable-telescope",
   "metadata": {},
   "outputs": [],
   "source": [
    "n_components = 2\n",
    "\n",
    "save_key='gmm_2_infection_individual'\n",
    "variants= list(np.unique(adata.obs[batch_key]))\n",
    "\n",
    "sars_genes = ['sars2_total_counts_log']\n",
    "bics_2_ind = classify_infection(adata=adata,\n",
    "                   genes=sars_genes, \n",
    "                   save_key=save_key,\n",
    "                   batch_key=batch_key,\n",
    "                   n_components=n_components\n",
    "                  )"
   ]
  },
  {
   "cell_type": "markdown",
   "id": "verified-pizza",
   "metadata": {},
   "source": [
    "# 2 components on total sum"
   ]
  },
  {
   "cell_type": "code",
   "execution_count": 95,
   "id": "olympic-playlist",
   "metadata": {},
   "outputs": [],
   "source": [
    "n_components = 2\n",
    "\n",
    "save_key='gmm_2_infection_total'\n",
    "\n",
    "variants= list(np.unique(adata.obs[batch_key]))\n",
    "\n",
    "sars_genes = [g for g in adata.var_names if g.startswith('SARS2_genome')]\n",
    "sars_genes = [g+'_log' for g in sars_genes]\n",
    "\n",
    "bics_2_total = classify_infection(adata=adata,\n",
    "                   genes=sars_genes, \n",
    "                   save_key=save_key,\n",
    "                   batch_key=batch_key,\n",
    "                   n_components=n_components\n",
    "                  )"
   ]
  },
  {
   "cell_type": "code",
   "execution_count": 96,
   "id": "designed-banana",
   "metadata": {},
   "outputs": [
    {
     "data": {
      "text/plain": [
       "AnnData object with n_obs × n_vars = 38462 × 36611\n",
       "    obs: 'infection', 'variant', 'condition', 'library_size', 'library_size_log', 'SARS2_genome_ORF1ab_counts', 'SARS2_genome_ORF1ab_log', 'SARS2_genome_S_counts', 'SARS2_genome_S_log', 'SARS2_genome_ORF3a_counts', 'SARS2_genome_ORF3a_log', 'SARS2_genome_E_counts', 'SARS2_genome_E_log', 'SARS2_genome_M_counts', 'SARS2_genome_M_log', 'SARS2_genome_ORF6_counts', 'SARS2_genome_ORF6_log', 'SARS2_genome_ORF7a_counts', 'SARS2_genome_ORF7a_log', 'SARS2_genome_ORF8_counts', 'SARS2_genome_ORF8_log', 'SARS2_genome_N_counts', 'SARS2_genome_N_log', 'SARS2_genome_ORF10_counts', 'SARS2_genome_ORF10_log', 'sars2_total_counts', 'sars2_total_counts_log', 'sars2_lib_size_ratio', 'round', 'condition_variant', 'round_variant_condition', 'n_genes_by_counts', 'total_counts', 'total_counts_mt', 'pct_counts_mt', 'ts_consensus_prediction', 'ts_consensus_percentage', 'knn_on_bbknn_pred', 'knn_on_scvi_offline_pred', 'scanvi_offline_pred', 'svm_pred', 'rf_pred', 'onclass_pred', 'knn_on_scanorama_pred', '_scvi_batch', '_scvi_labels', 'infection_condition', 'gmm_3_infection_individual', 'gmm_3_infection_total', 'gmm_2_infection_individual', 'gmm_2_infection_total'\n",
       "    var: 'mt', 'n_cells_by_counts', 'mean_counts', 'pct_dropout_by_counts', 'total_counts'\n",
       "    uns: '_scvi', 'hvg', 'infection_colors', 'neighbors', 'round_colors', 'umap', 'variant_colors'\n",
       "    obsm: 'X_scVI', 'X_umap', 'gmm_3_infection_individual_probs', 'gmm_3_infection_total_probs', 'gmm_2_infection_individual_probs', 'gmm_2_infection_total_probs'\n",
       "    obsp: 'connectivities', 'distances'"
      ]
     },
     "execution_count": 96,
     "metadata": {},
     "output_type": "execute_result"
    }
   ],
   "source": [
    "adata"
   ]
  },
  {
   "cell_type": "code",
   "execution_count": 97,
   "id": "fabulous-executive",
   "metadata": {},
   "outputs": [
    {
     "data": {
      "text/html": [
       "<div>\n",
       "<style scoped>\n",
       "    .dataframe tbody tr th:only-of-type {\n",
       "        vertical-align: middle;\n",
       "    }\n",
       "\n",
       "    .dataframe tbody tr th {\n",
       "        vertical-align: top;\n",
       "    }\n",
       "\n",
       "    .dataframe thead th {\n",
       "        text-align: right;\n",
       "    }\n",
       "</style>\n",
       "<table border=\"1\" class=\"dataframe\">\n",
       "  <thead>\n",
       "    <tr style=\"text-align: right;\">\n",
       "      <th></th>\n",
       "      <th>gmm_2_infection_total</th>\n",
       "    </tr>\n",
       "  </thead>\n",
       "  <tbody>\n",
       "    <tr>\n",
       "      <th>round_1_Uninfected_1_ACE2</th>\n",
       "      <td>-113899.650722</td>\n",
       "    </tr>\n",
       "    <tr>\n",
       "      <th>round_1_Uninfected_1_WT</th>\n",
       "      <td>-54832.072060</td>\n",
       "    </tr>\n",
       "    <tr>\n",
       "      <th>round_1_WA1_1_ACE2</th>\n",
       "      <td>-32369.066617</td>\n",
       "    </tr>\n",
       "    <tr>\n",
       "      <th>round_1_WA1_1_WT</th>\n",
       "      <td>-64461.895437</td>\n",
       "    </tr>\n",
       "    <tr>\n",
       "      <th>round_2_B.1.1.7_ACE2</th>\n",
       "      <td>-8310.246036</td>\n",
       "    </tr>\n",
       "    <tr>\n",
       "      <th>round_2_B.1.351_ACE2</th>\n",
       "      <td>-6883.388640</td>\n",
       "    </tr>\n",
       "    <tr>\n",
       "      <th>round_2_B.1.351_delta_ACE2</th>\n",
       "      <td>-2686.916659</td>\n",
       "    </tr>\n",
       "    <tr>\n",
       "      <th>round_2_B.1.429_ACE2</th>\n",
       "      <td>-5443.894786</td>\n",
       "    </tr>\n",
       "    <tr>\n",
       "      <th>round_2_Uninfected_2_ACE2</th>\n",
       "      <td>-13863.350377</td>\n",
       "    </tr>\n",
       "    <tr>\n",
       "      <th>round_2_WA1_2_ACE2</th>\n",
       "      <td>-10088.444748</td>\n",
       "    </tr>\n",
       "  </tbody>\n",
       "</table>\n",
       "</div>"
      ],
      "text/plain": [
       "                            gmm_2_infection_total\n",
       "round_1_Uninfected_1_ACE2          -113899.650722\n",
       "round_1_Uninfected_1_WT             -54832.072060\n",
       "round_1_WA1_1_ACE2                  -32369.066617\n",
       "round_1_WA1_1_WT                    -64461.895437\n",
       "round_2_B.1.1.7_ACE2                 -8310.246036\n",
       "round_2_B.1.351_ACE2                 -6883.388640\n",
       "round_2_B.1.351_delta_ACE2           -2686.916659\n",
       "round_2_B.1.429_ACE2                 -5443.894786\n",
       "round_2_Uninfected_2_ACE2           -13863.350377\n",
       "round_2_WA1_2_ACE2                  -10088.444748"
      ]
     },
     "execution_count": 97,
     "metadata": {},
     "output_type": "execute_result"
    }
   ],
   "source": [
    "bics_2_total"
   ]
  },
  {
   "cell_type": "code",
   "execution_count": 98,
   "id": "infinite-range",
   "metadata": {},
   "outputs": [
    {
     "data": {
      "text/html": [
       "<div>\n",
       "<style scoped>\n",
       "    .dataframe tbody tr th:only-of-type {\n",
       "        vertical-align: middle;\n",
       "    }\n",
       "\n",
       "    .dataframe tbody tr th {\n",
       "        vertical-align: top;\n",
       "    }\n",
       "\n",
       "    .dataframe thead th {\n",
       "        text-align: right;\n",
       "    }\n",
       "</style>\n",
       "<table border=\"1\" class=\"dataframe\">\n",
       "  <thead>\n",
       "    <tr style=\"text-align: right;\">\n",
       "      <th></th>\n",
       "      <th>gmm_2_infection_individual</th>\n",
       "    </tr>\n",
       "  </thead>\n",
       "  <tbody>\n",
       "    <tr>\n",
       "      <th>round_1_Uninfected_1_ACE2</th>\n",
       "      <td>-113193.671082</td>\n",
       "    </tr>\n",
       "    <tr>\n",
       "      <th>round_1_Uninfected_1_WT</th>\n",
       "      <td>-54611.545828</td>\n",
       "    </tr>\n",
       "    <tr>\n",
       "      <th>round_1_WA1_1_ACE2</th>\n",
       "      <td>28522.587629</td>\n",
       "    </tr>\n",
       "    <tr>\n",
       "      <th>round_1_WA1_1_WT</th>\n",
       "      <td>-48571.954197</td>\n",
       "    </tr>\n",
       "    <tr>\n",
       "      <th>round_2_B.1.1.7_ACE2</th>\n",
       "      <td>5980.672186</td>\n",
       "    </tr>\n",
       "    <tr>\n",
       "      <th>round_2_B.1.351_ACE2</th>\n",
       "      <td>7896.354643</td>\n",
       "    </tr>\n",
       "    <tr>\n",
       "      <th>round_2_B.1.351_delta_ACE2</th>\n",
       "      <td>11138.057810</td>\n",
       "    </tr>\n",
       "    <tr>\n",
       "      <th>round_2_B.1.429_ACE2</th>\n",
       "      <td>5637.624163</td>\n",
       "    </tr>\n",
       "    <tr>\n",
       "      <th>round_2_Uninfected_2_ACE2</th>\n",
       "      <td>-13806.292872</td>\n",
       "    </tr>\n",
       "    <tr>\n",
       "      <th>round_2_WA1_2_ACE2</th>\n",
       "      <td>6115.790706</td>\n",
       "    </tr>\n",
       "  </tbody>\n",
       "</table>\n",
       "</div>"
      ],
      "text/plain": [
       "                            gmm_2_infection_individual\n",
       "round_1_Uninfected_1_ACE2               -113193.671082\n",
       "round_1_Uninfected_1_WT                  -54611.545828\n",
       "round_1_WA1_1_ACE2                        28522.587629\n",
       "round_1_WA1_1_WT                         -48571.954197\n",
       "round_2_B.1.1.7_ACE2                       5980.672186\n",
       "round_2_B.1.351_ACE2                       7896.354643\n",
       "round_2_B.1.351_delta_ACE2                11138.057810\n",
       "round_2_B.1.429_ACE2                       5637.624163\n",
       "round_2_Uninfected_2_ACE2                -13806.292872\n",
       "round_2_WA1_2_ACE2                         6115.790706"
      ]
     },
     "execution_count": 98,
     "metadata": {},
     "output_type": "execute_result"
    }
   ],
   "source": [
    "bics_2_ind"
   ]
  },
  {
   "cell_type": "code",
   "execution_count": 99,
   "id": "aerial-thirty",
   "metadata": {},
   "outputs": [
    {
     "data": {
      "text/html": [
       "<div>\n",
       "<style scoped>\n",
       "    .dataframe tbody tr th:only-of-type {\n",
       "        vertical-align: middle;\n",
       "    }\n",
       "\n",
       "    .dataframe tbody tr th {\n",
       "        vertical-align: top;\n",
       "    }\n",
       "\n",
       "    .dataframe thead th {\n",
       "        text-align: right;\n",
       "    }\n",
       "</style>\n",
       "<table border=\"1\" class=\"dataframe\">\n",
       "  <thead>\n",
       "    <tr style=\"text-align: right;\">\n",
       "      <th></th>\n",
       "      <th>gmm_3_infection_total</th>\n",
       "    </tr>\n",
       "  </thead>\n",
       "  <tbody>\n",
       "    <tr>\n",
       "      <th>round_1_Uninfected_1_ACE2</th>\n",
       "      <td>-113476.575271</td>\n",
       "    </tr>\n",
       "    <tr>\n",
       "      <th>round_1_Uninfected_1_WT</th>\n",
       "      <td>-54676.441594</td>\n",
       "    </tr>\n",
       "    <tr>\n",
       "      <th>round_1_WA1_1_ACE2</th>\n",
       "      <td>28479.696113</td>\n",
       "    </tr>\n",
       "    <tr>\n",
       "      <th>round_1_WA1_1_WT</th>\n",
       "      <td>-50332.614295</td>\n",
       "    </tr>\n",
       "    <tr>\n",
       "      <th>round_2_B.1.1.7_ACE2</th>\n",
       "      <td>6004.467082</td>\n",
       "    </tr>\n",
       "    <tr>\n",
       "      <th>round_2_B.1.351_ACE2</th>\n",
       "      <td>7812.892344</td>\n",
       "    </tr>\n",
       "    <tr>\n",
       "      <th>round_2_B.1.351_delta_ACE2</th>\n",
       "      <td>9607.095150</td>\n",
       "    </tr>\n",
       "    <tr>\n",
       "      <th>round_2_B.1.429_ACE2</th>\n",
       "      <td>5654.472759</td>\n",
       "    </tr>\n",
       "    <tr>\n",
       "      <th>round_2_Uninfected_2_ACE2</th>\n",
       "      <td>-13785.121761</td>\n",
       "    </tr>\n",
       "    <tr>\n",
       "      <th>round_2_WA1_2_ACE2</th>\n",
       "      <td>6128.788514</td>\n",
       "    </tr>\n",
       "  </tbody>\n",
       "</table>\n",
       "</div>"
      ],
      "text/plain": [
       "                            gmm_3_infection_total\n",
       "round_1_Uninfected_1_ACE2          -113476.575271\n",
       "round_1_Uninfected_1_WT             -54676.441594\n",
       "round_1_WA1_1_ACE2                   28479.696113\n",
       "round_1_WA1_1_WT                    -50332.614295\n",
       "round_2_B.1.1.7_ACE2                  6004.467082\n",
       "round_2_B.1.351_ACE2                  7812.892344\n",
       "round_2_B.1.351_delta_ACE2            9607.095150\n",
       "round_2_B.1.429_ACE2                  5654.472759\n",
       "round_2_Uninfected_2_ACE2           -13785.121761\n",
       "round_2_WA1_2_ACE2                    6128.788514"
      ]
     },
     "execution_count": 99,
     "metadata": {},
     "output_type": "execute_result"
    }
   ],
   "source": [
    "bics_3_total"
   ]
  },
  {
   "cell_type": "code",
   "execution_count": 100,
   "id": "flying-bible",
   "metadata": {},
   "outputs": [
    {
     "data": {
      "text/html": [
       "<div>\n",
       "<style scoped>\n",
       "    .dataframe tbody tr th:only-of-type {\n",
       "        vertical-align: middle;\n",
       "    }\n",
       "\n",
       "    .dataframe tbody tr th {\n",
       "        vertical-align: top;\n",
       "    }\n",
       "\n",
       "    .dataframe thead th {\n",
       "        text-align: right;\n",
       "    }\n",
       "</style>\n",
       "<table border=\"1\" class=\"dataframe\">\n",
       "  <thead>\n",
       "    <tr style=\"text-align: right;\">\n",
       "      <th></th>\n",
       "      <th>gmm_3_infection_individual</th>\n",
       "    </tr>\n",
       "  </thead>\n",
       "  <tbody>\n",
       "    <tr>\n",
       "      <th>round_1_Uninfected_1_ACE2</th>\n",
       "      <td>-113884.937095</td>\n",
       "    </tr>\n",
       "    <tr>\n",
       "      <th>round_1_Uninfected_1_WT</th>\n",
       "      <td>-54812.283847</td>\n",
       "    </tr>\n",
       "    <tr>\n",
       "      <th>round_1_WA1_1_ACE2</th>\n",
       "      <td>-36554.374166</td>\n",
       "    </tr>\n",
       "    <tr>\n",
       "      <th>round_1_WA1_1_WT</th>\n",
       "      <td>-65419.769539</td>\n",
       "    </tr>\n",
       "    <tr>\n",
       "      <th>round_2_B.1.1.7_ACE2</th>\n",
       "      <td>-10610.058444</td>\n",
       "    </tr>\n",
       "    <tr>\n",
       "      <th>round_2_B.1.351_ACE2</th>\n",
       "      <td>-9510.513938</td>\n",
       "    </tr>\n",
       "    <tr>\n",
       "      <th>round_2_B.1.351_delta_ACE2</th>\n",
       "      <td>-7467.636543</td>\n",
       "    </tr>\n",
       "    <tr>\n",
       "      <th>round_2_B.1.429_ACE2</th>\n",
       "      <td>-6467.992424</td>\n",
       "    </tr>\n",
       "    <tr>\n",
       "      <th>round_2_Uninfected_2_ACE2</th>\n",
       "      <td>-13842.179266</td>\n",
       "    </tr>\n",
       "    <tr>\n",
       "      <th>round_2_WA1_2_ACE2</th>\n",
       "      <td>-12077.488603</td>\n",
       "    </tr>\n",
       "  </tbody>\n",
       "</table>\n",
       "</div>"
      ],
      "text/plain": [
       "                            gmm_3_infection_individual\n",
       "round_1_Uninfected_1_ACE2               -113884.937095\n",
       "round_1_Uninfected_1_WT                  -54812.283847\n",
       "round_1_WA1_1_ACE2                       -36554.374166\n",
       "round_1_WA1_1_WT                         -65419.769539\n",
       "round_2_B.1.1.7_ACE2                     -10610.058444\n",
       "round_2_B.1.351_ACE2                      -9510.513938\n",
       "round_2_B.1.351_delta_ACE2                -7467.636543\n",
       "round_2_B.1.429_ACE2                      -6467.992424\n",
       "round_2_Uninfected_2_ACE2                -13842.179266\n",
       "round_2_WA1_2_ACE2                       -12077.488603"
      ]
     },
     "execution_count": 100,
     "metadata": {},
     "output_type": "execute_result"
    }
   ],
   "source": [
    "bics_3_ind"
   ]
  },
  {
   "cell_type": "code",
   "execution_count": 101,
   "id": "grateful-drink",
   "metadata": {},
   "outputs": [],
   "source": [
    "bics = pd.concat((bics_2_ind, bics_2_total, bics_3_ind, bics_3_total), axis=1)"
   ]
  },
  {
   "cell_type": "code",
   "execution_count": 102,
   "id": "valuable-charity",
   "metadata": {},
   "outputs": [
    {
     "data": {
      "text/html": [
       "<div>\n",
       "<style scoped>\n",
       "    .dataframe tbody tr th:only-of-type {\n",
       "        vertical-align: middle;\n",
       "    }\n",
       "\n",
       "    .dataframe tbody tr th {\n",
       "        vertical-align: top;\n",
       "    }\n",
       "\n",
       "    .dataframe thead th {\n",
       "        text-align: right;\n",
       "    }\n",
       "</style>\n",
       "<table border=\"1\" class=\"dataframe\">\n",
       "  <thead>\n",
       "    <tr style=\"text-align: right;\">\n",
       "      <th></th>\n",
       "      <th>gmm_2_infection_individual</th>\n",
       "      <th>gmm_2_infection_total</th>\n",
       "      <th>gmm_3_infection_individual</th>\n",
       "      <th>gmm_3_infection_total</th>\n",
       "    </tr>\n",
       "  </thead>\n",
       "  <tbody>\n",
       "    <tr>\n",
       "      <th>round_1_Uninfected_1_ACE2</th>\n",
       "      <td>-113193.671082</td>\n",
       "      <td>-113899.650722</td>\n",
       "      <td>-113884.937095</td>\n",
       "      <td>-113476.575271</td>\n",
       "    </tr>\n",
       "    <tr>\n",
       "      <th>round_1_Uninfected_1_WT</th>\n",
       "      <td>-54611.545828</td>\n",
       "      <td>-54832.072060</td>\n",
       "      <td>-54812.283847</td>\n",
       "      <td>-54676.441594</td>\n",
       "    </tr>\n",
       "    <tr>\n",
       "      <th>round_1_WA1_1_ACE2</th>\n",
       "      <td>28522.587629</td>\n",
       "      <td>-32369.066617</td>\n",
       "      <td>-36554.374166</td>\n",
       "      <td>28479.696113</td>\n",
       "    </tr>\n",
       "    <tr>\n",
       "      <th>round_1_WA1_1_WT</th>\n",
       "      <td>-48571.954197</td>\n",
       "      <td>-64461.895437</td>\n",
       "      <td>-65419.769539</td>\n",
       "      <td>-50332.614295</td>\n",
       "    </tr>\n",
       "    <tr>\n",
       "      <th>round_2_B.1.1.7_ACE2</th>\n",
       "      <td>5980.672186</td>\n",
       "      <td>-8310.246036</td>\n",
       "      <td>-10610.058444</td>\n",
       "      <td>6004.467082</td>\n",
       "    </tr>\n",
       "    <tr>\n",
       "      <th>round_2_B.1.351_ACE2</th>\n",
       "      <td>7896.354643</td>\n",
       "      <td>-6883.388640</td>\n",
       "      <td>-9510.513938</td>\n",
       "      <td>7812.892344</td>\n",
       "    </tr>\n",
       "    <tr>\n",
       "      <th>round_2_B.1.351_delta_ACE2</th>\n",
       "      <td>11138.057810</td>\n",
       "      <td>-2686.916659</td>\n",
       "      <td>-7467.636543</td>\n",
       "      <td>9607.095150</td>\n",
       "    </tr>\n",
       "    <tr>\n",
       "      <th>round_2_B.1.429_ACE2</th>\n",
       "      <td>5637.624163</td>\n",
       "      <td>-5443.894786</td>\n",
       "      <td>-6467.992424</td>\n",
       "      <td>5654.472759</td>\n",
       "    </tr>\n",
       "    <tr>\n",
       "      <th>round_2_Uninfected_2_ACE2</th>\n",
       "      <td>-13806.292872</td>\n",
       "      <td>-13863.350377</td>\n",
       "      <td>-13842.179266</td>\n",
       "      <td>-13785.121761</td>\n",
       "    </tr>\n",
       "    <tr>\n",
       "      <th>round_2_WA1_2_ACE2</th>\n",
       "      <td>6115.790706</td>\n",
       "      <td>-10088.444748</td>\n",
       "      <td>-12077.488603</td>\n",
       "      <td>6128.788514</td>\n",
       "    </tr>\n",
       "  </tbody>\n",
       "</table>\n",
       "</div>"
      ],
      "text/plain": [
       "                            gmm_2_infection_individual  gmm_2_infection_total  \\\n",
       "round_1_Uninfected_1_ACE2               -113193.671082         -113899.650722   \n",
       "round_1_Uninfected_1_WT                  -54611.545828          -54832.072060   \n",
       "round_1_WA1_1_ACE2                        28522.587629          -32369.066617   \n",
       "round_1_WA1_1_WT                         -48571.954197          -64461.895437   \n",
       "round_2_B.1.1.7_ACE2                       5980.672186           -8310.246036   \n",
       "round_2_B.1.351_ACE2                       7896.354643           -6883.388640   \n",
       "round_2_B.1.351_delta_ACE2                11138.057810           -2686.916659   \n",
       "round_2_B.1.429_ACE2                       5637.624163           -5443.894786   \n",
       "round_2_Uninfected_2_ACE2                -13806.292872          -13863.350377   \n",
       "round_2_WA1_2_ACE2                         6115.790706          -10088.444748   \n",
       "\n",
       "                            gmm_3_infection_individual  gmm_3_infection_total  \n",
       "round_1_Uninfected_1_ACE2               -113884.937095         -113476.575271  \n",
       "round_1_Uninfected_1_WT                  -54812.283847          -54676.441594  \n",
       "round_1_WA1_1_ACE2                       -36554.374166           28479.696113  \n",
       "round_1_WA1_1_WT                         -65419.769539          -50332.614295  \n",
       "round_2_B.1.1.7_ACE2                     -10610.058444            6004.467082  \n",
       "round_2_B.1.351_ACE2                      -9510.513938            7812.892344  \n",
       "round_2_B.1.351_delta_ACE2                -7467.636543            9607.095150  \n",
       "round_2_B.1.429_ACE2                      -6467.992424            5654.472759  \n",
       "round_2_Uninfected_2_ACE2                -13842.179266          -13785.121761  \n",
       "round_2_WA1_2_ACE2                       -12077.488603            6128.788514  "
      ]
     },
     "execution_count": 102,
     "metadata": {},
     "output_type": "execute_result"
    }
   ],
   "source": [
    "bics"
   ]
  },
  {
   "cell_type": "code",
   "execution_count": 103,
   "id": "published-smell",
   "metadata": {},
   "outputs": [],
   "source": [
    "best_model = bics.idxmin(axis=1)"
   ]
  },
  {
   "cell_type": "code",
   "execution_count": 104,
   "id": "guilty-volume",
   "metadata": {},
   "outputs": [
    {
     "data": {
      "text/plain": [
       "round_1_Uninfected_1_ACE2          gmm_2_infection_total\n",
       "round_1_Uninfected_1_WT            gmm_2_infection_total\n",
       "round_1_WA1_1_ACE2            gmm_3_infection_individual\n",
       "round_1_WA1_1_WT              gmm_3_infection_individual\n",
       "round_2_B.1.1.7_ACE2          gmm_3_infection_individual\n",
       "round_2_B.1.351_ACE2          gmm_3_infection_individual\n",
       "round_2_B.1.351_delta_ACE2    gmm_3_infection_individual\n",
       "round_2_B.1.429_ACE2          gmm_3_infection_individual\n",
       "round_2_Uninfected_2_ACE2          gmm_2_infection_total\n",
       "round_2_WA1_2_ACE2            gmm_3_infection_individual\n",
       "dtype: object"
      ]
     },
     "execution_count": 104,
     "metadata": {},
     "output_type": "execute_result"
    }
   ],
   "source": [
    "best_model"
   ]
  },
  {
   "cell_type": "code",
   "execution_count": 105,
   "id": "applied-compiler",
   "metadata": {},
   "outputs": [],
   "source": [
    "adata.obs['gmm_infection'] = 'na'\n",
    "for batch, model in zip(best_model.index, best_model.values):\n",
    "    batch_cells = adata[adata.obs.round_variant_condition==batch].obs_names\n",
    "    adata.obs['gmm_infection'][batch_cells] =  adata.obs[model][batch_cells]"
   ]
  },
  {
   "cell_type": "code",
   "execution_count": 106,
   "id": "usual-prague",
   "metadata": {},
   "outputs": [
    {
     "data": {
      "text/plain": [
       "AnnData object with n_obs × n_vars = 38462 × 36611\n",
       "    obs: 'infection', 'variant', 'condition', 'library_size', 'library_size_log', 'SARS2_genome_ORF1ab_counts', 'SARS2_genome_ORF1ab_log', 'SARS2_genome_S_counts', 'SARS2_genome_S_log', 'SARS2_genome_ORF3a_counts', 'SARS2_genome_ORF3a_log', 'SARS2_genome_E_counts', 'SARS2_genome_E_log', 'SARS2_genome_M_counts', 'SARS2_genome_M_log', 'SARS2_genome_ORF6_counts', 'SARS2_genome_ORF6_log', 'SARS2_genome_ORF7a_counts', 'SARS2_genome_ORF7a_log', 'SARS2_genome_ORF8_counts', 'SARS2_genome_ORF8_log', 'SARS2_genome_N_counts', 'SARS2_genome_N_log', 'SARS2_genome_ORF10_counts', 'SARS2_genome_ORF10_log', 'sars2_total_counts', 'sars2_total_counts_log', 'sars2_lib_size_ratio', 'round', 'condition_variant', 'round_variant_condition', 'n_genes_by_counts', 'total_counts', 'total_counts_mt', 'pct_counts_mt', 'ts_consensus_prediction', 'ts_consensus_percentage', 'knn_on_bbknn_pred', 'knn_on_scvi_offline_pred', 'scanvi_offline_pred', 'svm_pred', 'rf_pred', 'onclass_pred', 'knn_on_scanorama_pred', '_scvi_batch', '_scvi_labels', 'infection_condition', 'gmm_3_infection_individual', 'gmm_3_infection_total', 'gmm_2_infection_individual', 'gmm_2_infection_total', 'gmm_infection'\n",
       "    var: 'mt', 'n_cells_by_counts', 'mean_counts', 'pct_dropout_by_counts', 'total_counts'\n",
       "    uns: '_scvi', 'hvg', 'infection_colors', 'neighbors', 'round_colors', 'umap', 'variant_colors'\n",
       "    obsm: 'X_scVI', 'X_umap', 'gmm_3_infection_individual_probs', 'gmm_3_infection_total_probs', 'gmm_2_infection_individual_probs', 'gmm_2_infection_total_probs'\n",
       "    obsp: 'connectivities', 'distances'"
      ]
     },
     "execution_count": 106,
     "metadata": {},
     "output_type": "execute_result"
    }
   ],
   "source": [
    "adata"
   ]
  },
  {
   "cell_type": "code",
   "execution_count": 107,
   "id": "ruled-gather",
   "metadata": {},
   "outputs": [
    {
     "data": {
      "image/png": "[encoded data removed]",
      "text/plain": [
       "<Figure size 432x288 with 1 Axes>"
      ]
     },
     "metadata": {
      "needs_background": "light"
     },
     "output_type": "display_data"
    }
   ],
   "source": [
    "df = adata.obs\n",
    "ax = df.groupby(['round_variant_condition', 'gmm_infection']).size().unstack(level=1).plot(kind='bar')\n"
   ]
  },
  {
   "cell_type": "code",
   "execution_count": 108,
   "id": "noted-departure",
   "metadata": {},
   "outputs": [
    {
     "data": {
      "text/html": [
       "<div>\n",
       "<style scoped>\n",
       "    .dataframe tbody tr th:only-of-type {\n",
       "        vertical-align: middle;\n",
       "    }\n",
       "\n",
       "    .dataframe tbody tr th {\n",
       "        vertical-align: top;\n",
       "    }\n",
       "\n",
       "    .dataframe thead th {\n",
       "        text-align: right;\n",
       "    }\n",
       "</style>\n",
       "<table border=\"1\" class=\"dataframe\">\n",
       "  <thead>\n",
       "    <tr style=\"text-align: right;\">\n",
       "      <th>gmm_infection</th>\n",
       "      <th>0</th>\n",
       "      <th>1</th>\n",
       "      <th>2</th>\n",
       "    </tr>\n",
       "    <tr>\n",
       "      <th>round_variant_condition</th>\n",
       "      <th></th>\n",
       "      <th></th>\n",
       "      <th></th>\n",
       "    </tr>\n",
       "  </thead>\n",
       "  <tbody>\n",
       "    <tr>\n",
       "      <th>round_1_Uninfected_1_ACE2</th>\n",
       "      <td>9519</td>\n",
       "      <td>0</td>\n",
       "      <td>0</td>\n",
       "    </tr>\n",
       "    <tr>\n",
       "      <th>round_1_Uninfected_1_WT</th>\n",
       "      <td>4584</td>\n",
       "      <td>0</td>\n",
       "      <td>0</td>\n",
       "    </tr>\n",
       "    <tr>\n",
       "      <th>round_1_WA1_1_ACE2</th>\n",
       "      <td>5835</td>\n",
       "      <td>1486</td>\n",
       "      <td>644</td>\n",
       "    </tr>\n",
       "    <tr>\n",
       "      <th>round_1_WA1_1_WT</th>\n",
       "      <td>5702</td>\n",
       "      <td>2</td>\n",
       "      <td>75</td>\n",
       "    </tr>\n",
       "    <tr>\n",
       "      <th>round_2_B.1.1.7_ACE2</th>\n",
       "      <td>1438</td>\n",
       "      <td>32</td>\n",
       "      <td>218</td>\n",
       "    </tr>\n",
       "    <tr>\n",
       "      <th>round_2_B.1.351_ACE2</th>\n",
       "      <td>1757</td>\n",
       "      <td>109</td>\n",
       "      <td>266</td>\n",
       "    </tr>\n",
       "    <tr>\n",
       "      <th>round_2_B.1.351_delta_ACE2</th>\n",
       "      <td>1198</td>\n",
       "      <td>487</td>\n",
       "      <td>594</td>\n",
       "    </tr>\n",
       "    <tr>\n",
       "      <th>round_2_B.1.429_ACE2</th>\n",
       "      <td>1117</td>\n",
       "      <td>146</td>\n",
       "      <td>148</td>\n",
       "    </tr>\n",
       "    <tr>\n",
       "      <th>round_2_Uninfected_2_ACE2</th>\n",
       "      <td>1161</td>\n",
       "      <td>0</td>\n",
       "      <td>0</td>\n",
       "    </tr>\n",
       "    <tr>\n",
       "      <th>round_2_WA1_2_ACE2</th>\n",
       "      <td>1704</td>\n",
       "      <td>83</td>\n",
       "      <td>157</td>\n",
       "    </tr>\n",
       "  </tbody>\n",
       "</table>\n",
       "</div>"
      ],
      "text/plain": [
       "gmm_infection                  0     1    2\n",
       "round_variant_condition                    \n",
       "round_1_Uninfected_1_ACE2   9519     0    0\n",
       "round_1_Uninfected_1_WT     4584     0    0\n",
       "round_1_WA1_1_ACE2          5835  1486  644\n",
       "round_1_WA1_1_WT            5702     2   75\n",
       "round_2_B.1.1.7_ACE2        1438    32  218\n",
       "round_2_B.1.351_ACE2        1757   109  266\n",
       "round_2_B.1.351_delta_ACE2  1198   487  594\n",
       "round_2_B.1.429_ACE2        1117   146  148\n",
       "round_2_Uninfected_2_ACE2   1161     0    0\n",
       "round_2_WA1_2_ACE2          1704    83  157"
      ]
     },
     "execution_count": 108,
     "metadata": {},
     "output_type": "execute_result"
    }
   ],
   "source": [
    "\n",
    "df.groupby(['round_variant_condition', 'gmm_infection']).size().unstack(level=1)\n"
   ]
  },
  {
   "cell_type": "code",
   "execution_count": 109,
   "id": "positive-search",
   "metadata": {},
   "outputs": [],
   "source": [
    "infection_df = adata.obs.groupby(['round_variant_condition', 'gmm_infection']).size().unstack(level=1)"
   ]
  },
  {
   "cell_type": "code",
   "execution_count": 110,
   "id": "elder-practice",
   "metadata": {},
   "outputs": [
    {
     "data": {
      "text/plain": [
       "<matplotlib.legend.Legend at 0x7f8e74110130>"
      ]
     },
     "execution_count": 110,
     "metadata": {},
     "output_type": "execute_result"
    },
    {
     "data": {
      "image/png": "[encoded data removed]",
      "text/plain": [
       "<Figure size 432x288 with 1 Axes>"
      ]
     },
     "metadata": {
      "needs_background": "light"
     },
     "output_type": "display_data"
    }
   ],
   "source": [
    "ax = infection_df.divide(infection_df.sum(axis=1), axis=0).plot(kind='bar')\n",
    "ax.legend(bbox_to_anchor=(1.05, 1), loc='upper left')"
   ]
  },
  {
   "cell_type": "code",
   "execution_count": 113,
   "id": "polyphonic-farmer",
   "metadata": {},
   "outputs": [],
   "source": [
    "# No clue wtf is wrong with these\n",
    "# cant save without this block\n",
    "keys = list(adata.obsm.keys())\n",
    "for key in keys:\n",
    "    if key.endswith('_probs'):\n",
    "        del adata.obsm[key]"
   ]
  },
  {
   "cell_type": "code",
   "execution_count": 114,
   "id": "educated-quest",
   "metadata": {},
   "outputs": [
    {
     "data": {
      "text/plain": [
       "AnnData object with n_obs × n_vars = 38462 × 36611\n",
       "    obs: 'infection', 'variant', 'condition', 'library_size', 'library_size_log', 'SARS2_genome_ORF1ab_counts', 'SARS2_genome_ORF1ab_log', 'SARS2_genome_S_counts', 'SARS2_genome_S_log', 'SARS2_genome_ORF3a_counts', 'SARS2_genome_ORF3a_log', 'SARS2_genome_E_counts', 'SARS2_genome_E_log', 'SARS2_genome_M_counts', 'SARS2_genome_M_log', 'SARS2_genome_ORF6_counts', 'SARS2_genome_ORF6_log', 'SARS2_genome_ORF7a_counts', 'SARS2_genome_ORF7a_log', 'SARS2_genome_ORF8_counts', 'SARS2_genome_ORF8_log', 'SARS2_genome_N_counts', 'SARS2_genome_N_log', 'SARS2_genome_ORF10_counts', 'SARS2_genome_ORF10_log', 'sars2_total_counts', 'sars2_total_counts_log', 'sars2_lib_size_ratio', 'round', 'condition_variant', 'round_variant_condition', 'n_genes_by_counts', 'total_counts', 'total_counts_mt', 'pct_counts_mt', 'ts_consensus_prediction', 'ts_consensus_percentage', 'knn_on_bbknn_pred', 'knn_on_scvi_offline_pred', 'scanvi_offline_pred', 'svm_pred', 'rf_pred', 'onclass_pred', 'knn_on_scanorama_pred', '_scvi_batch', '_scvi_labels', 'infection_condition', 'gmm_3_infection_individual', 'gmm_3_infection_total', 'gmm_2_infection_individual', 'gmm_2_infection_total', 'gmm_infection'\n",
       "    var: 'mt', 'n_cells_by_counts', 'mean_counts', 'pct_dropout_by_counts', 'total_counts'\n",
       "    uns: '_scvi', 'hvg', 'infection_colors', 'neighbors', 'round_colors', 'umap', 'variant_colors'\n",
       "    obsm: 'X_scVI', 'X_umap'\n",
       "    obsp: 'connectivities', 'distances'"
      ]
     },
     "execution_count": 114,
     "metadata": {},
     "output_type": "execute_result"
    }
   ],
   "source": [
    "adata"
   ]
  },
  {
   "cell_type": "code",
   "execution_count": 122,
   "id": "balanced-potential",
   "metadata": {},
   "outputs": [],
   "source": [
    "adata.obs['infection_gmm'] = adata.obs['infection'].astype(str) + '_' + adata.obs['gmm_infection'].astype(str)\n",
    "\n",
    "adata.obs['infection_gmm'].value_counts()\n",
    "adata.obs['infection_gmm_annotated'] = adata.obs['infection_gmm'].replace({'U_0':'Uninfected',\n",
    "                                    'I_0':\"No Infection\",\n",
    "                                    'I_1': \"Low Infection\",\n",
    "                                    'I_2': 'High Infection'\n",
    "                                   })\n"
   ]
  },
  {
   "cell_type": "code",
   "execution_count": 123,
   "id": "diagnostic-musical",
   "metadata": {},
   "outputs": [
    {
     "name": "stderr",
     "output_type": "stream",
     "text": [
      "... storing 'infection_gmm' as categorical\n",
      "... storing 'infection_gmm_annotated' as categorical\n"
     ]
    }
   ],
   "source": [
    "adata.write(adata_fn)"
   ]
  },
  {
   "cell_type": "code",
   "execution_count": 124,
   "id": "painful-casino",
   "metadata": {},
   "outputs": [],
   "source": [
    "adata[adata.obs['round']=='round_1'].write('round1_processed.h5ad')"
   ]
  },
  {
   "cell_type": "code",
   "execution_count": 125,
   "id": "backed-density",
   "metadata": {},
   "outputs": [],
   "source": [
    "adata[adata.obs['round']=='round_2'].write('round2_processed.h5ad')"
   ]
  },
  {
   "cell_type": "code",
   "execution_count": null,
   "id": "random-atlanta",
   "metadata": {},
   "outputs": [],
   "source": []
  }
 ],
 "metadata": {
  "kernelspec": {
   "display_name": "Python 3.8.3 64-bit ('scvi-dev': venv)",
   "language": "python",
   "name": "python38364bitscvidevvenv4fb90fe562ab4b5189ac0b527fd52a97"
  },
  "language_info": {
   "codemirror_mode": {
    "name": "ipython",
    "version": 3
   },
   "file_extension": ".py",
   "mimetype": "text/x-python",
   "name": "python",
   "nbconvert_exporter": "python",
   "pygments_lexer": "ipython3",
   "version": "3.8.3"
  }
 },
 "nbformat": 4,
 "nbformat_minor": 5
}
