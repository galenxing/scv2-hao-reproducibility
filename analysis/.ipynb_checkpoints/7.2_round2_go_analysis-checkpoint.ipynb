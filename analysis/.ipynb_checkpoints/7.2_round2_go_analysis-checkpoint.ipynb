{
 "cells": [
  {
   "cell_type": "code",
   "execution_count": 1,
   "id": "entertaining-point",
   "metadata": {},
   "outputs": [],
   "source": [
    "\n",
    "import anndata\n",
    "import pandas as pd\n",
    "import numpy as np\n",
    "import scanpy as sc\n"
   ]
  },
  {
   "cell_type": "code",
   "execution_count": 2,
   "id": "broadband-organizer",
   "metadata": {},
   "outputs": [
    {
     "data": {
      "text/plain": [
       "'1.9.1'"
      ]
     },
     "execution_count": 2,
     "metadata": {},
     "output_type": "execute_result"
    }
   ],
   "source": [
    "sc.__version__"
   ]
  },
  {
   "cell_type": "markdown",
   "id": "prepared-bullet",
   "metadata": {},
   "source": [
    "# Filter out scv2 genes and mt genes"
   ]
  },
  {
   "cell_type": "code",
   "execution_count": 3,
   "id": "expanded-district",
   "metadata": {},
   "outputs": [],
   "source": [
    "\n",
    "adata = anndata.read('round2_processed.h5ad')\n"
   ]
  },
  {
   "cell_type": "code",
   "execution_count": 4,
   "id": "disturbed-recycling",
   "metadata": {},
   "outputs": [
    {
     "data": {
      "text/plain": [
       "matrix([[0.000e+00, 0.000e+00, 0.000e+00, ..., 7.000e+00, 1.868e+03,\n",
       "         1.883e+03],\n",
       "        [0.000e+00, 0.000e+00, 0.000e+00, ..., 0.000e+00, 6.000e+00,\n",
       "         1.000e+00],\n",
       "        [0.000e+00, 0.000e+00, 0.000e+00, ..., 1.000e+00, 1.000e+00,\n",
       "         0.000e+00],\n",
       "        ...,\n",
       "        [0.000e+00, 0.000e+00, 0.000e+00, ..., 2.800e+01, 6.849e+03,\n",
       "         5.334e+03],\n",
       "        [0.000e+00, 0.000e+00, 0.000e+00, ..., 0.000e+00, 7.000e+00,\n",
       "         1.000e+00],\n",
       "        [0.000e+00, 0.000e+00, 0.000e+00, ..., 0.000e+00, 7.000e+00,\n",
       "         1.000e+00]], dtype=float32)"
      ]
     },
     "execution_count": 4,
     "metadata": {},
     "output_type": "execute_result"
    }
   ],
   "source": [
    "# confirm its raw counts\n",
    "adata.X[:10].todense()"
   ]
  },
  {
   "cell_type": "code",
   "execution_count": 5,
   "id": "entitled-muscle",
   "metadata": {},
   "outputs": [],
   "source": [
    "# filter out scv2 genes\n",
    "adata.var['is_sars2_gene'] = [True if v.startswith('SARS2_') else False for v in adata.var_names]\n",
    "adata = adata[:, adata.var['is_sars2_gene']==False].copy()"
   ]
  },
  {
   "cell_type": "code",
   "execution_count": 6,
   "id": "fallen-tribute",
   "metadata": {},
   "outputs": [],
   "source": [
    "# filter out mitochondrial genes\n",
    "adata = adata[:,adata.var['mt']==False].copy()\n"
   ]
  },
  {
   "cell_type": "markdown",
   "id": "reserved-memorial",
   "metadata": {},
   "source": [
    "## Round1 ACE2: Top GO terms of infection condition vs uninfected condition for ACE2\n"
   ]
  },
  {
   "cell_type": "code",
   "execution_count": 7,
   "id": "cloudy-finding",
   "metadata": {},
   "outputs": [],
   "source": [
    "\n",
    "ace2 = adata[adata.obs['condition']=='ACE2'].copy()\n"
   ]
  },
  {
   "cell_type": "code",
   "execution_count": 8,
   "id": "utility-preview",
   "metadata": {},
   "outputs": [
    {
     "data": {
      "text/plain": [
       "AnnData object with n_obs × n_vars = 10615 × 36588\n",
       "    obs: 'infection', 'variant', 'condition', 'library_size', 'library_size_log', 'SARS2_genome_ORF1ab_counts', 'SARS2_genome_ORF1ab_log', 'SARS2_genome_S_counts', 'SARS2_genome_S_log', 'SARS2_genome_ORF3a_counts', 'SARS2_genome_ORF3a_log', 'SARS2_genome_E_counts', 'SARS2_genome_E_log', 'SARS2_genome_M_counts', 'SARS2_genome_M_log', 'SARS2_genome_ORF6_counts', 'SARS2_genome_ORF6_log', 'SARS2_genome_ORF7a_counts', 'SARS2_genome_ORF7a_log', 'SARS2_genome_ORF8_counts', 'SARS2_genome_ORF8_log', 'SARS2_genome_N_counts', 'SARS2_genome_N_log', 'SARS2_genome_ORF10_counts', 'SARS2_genome_ORF10_log', 'sars2_total_counts', 'sars2_total_counts_log', 'sars2_lib_size_ratio', 'round', 'condition_variant', 'round_variant_condition', 'n_genes_by_counts', 'total_counts', 'total_counts_mt', 'pct_counts_mt', 'ts_consensus_prediction', 'ts_consensus_percentage', 'knn_on_bbknn_pred', 'knn_on_scvi_offline_pred', 'scanvi_offline_pred', 'svm_pred', 'rf_pred', 'onclass_pred', 'knn_on_scanorama_pred', '_scvi_batch', '_scvi_labels', 'infection_condition', 'gmm_3_infection_individual', 'gmm_3_infection_total', 'gmm_2_infection_individual', 'gmm_2_infection_total', 'gmm_infection', 'infection_gmm', 'infection_gmm_annotated', 'manual_ct_annotation', 'vision_clusters', 'vision_clusters_old', 'r1_vision_clusters_annotated_1', 'r1_vision_clusters_annotated_2', 'r2_vision_clusters_annotated', 'infection_str'\n",
       "    var: 'mt', 'n_cells_by_counts', 'mean_counts', 'pct_dropout_by_counts', 'total_counts', 'is_sars2_gene'\n",
       "    uns: '_scvi', 'hvg', 'infection_colors', 'neighbors', 'round_colors', 'umap', 'variant_colors'\n",
       "    obsm: 'X_scVI', 'X_umap'\n",
       "    obsp: 'connectivities', 'distances'"
      ]
     },
     "execution_count": 8,
     "metadata": {},
     "output_type": "execute_result"
    }
   ],
   "source": [
    "ace2"
   ]
  },
  {
   "cell_type": "code",
   "execution_count": 9,
   "id": "irish-complex",
   "metadata": {},
   "outputs": [
    {
     "data": {
      "text/plain": [
       "No Infection      7214\n",
       "High Infection    1383\n",
       "Uninfected        1161\n",
       "Low Infection      857\n",
       "Name: infection_gmm_annotated, dtype: int64"
      ]
     },
     "execution_count": 9,
     "metadata": {},
     "output_type": "execute_result"
    }
   ],
   "source": [
    "\n",
    "ace2.obs['infection_gmm_annotated'].value_counts()\n"
   ]
  },
  {
   "cell_type": "code",
   "execution_count": 10,
   "id": "suffering-trading",
   "metadata": {},
   "outputs": [],
   "source": [
    "\n",
    "sc.pp.normalize_total(ace2, target_sum=1e4)\n",
    "sc.pp.log1p(ace2)\n",
    "sc.pp.scale(ace2, max_value=10)\n",
    "\n"
   ]
  },
  {
   "cell_type": "code",
   "execution_count": 11,
   "id": "photographic-claim",
   "metadata": {},
   "outputs": [
    {
     "data": {
      "text/plain": [
       "AnnData object with n_obs × n_vars = 10615 × 36588\n",
       "    obs: 'infection', 'variant', 'condition', 'library_size', 'library_size_log', 'SARS2_genome_ORF1ab_counts', 'SARS2_genome_ORF1ab_log', 'SARS2_genome_S_counts', 'SARS2_genome_S_log', 'SARS2_genome_ORF3a_counts', 'SARS2_genome_ORF3a_log', 'SARS2_genome_E_counts', 'SARS2_genome_E_log', 'SARS2_genome_M_counts', 'SARS2_genome_M_log', 'SARS2_genome_ORF6_counts', 'SARS2_genome_ORF6_log', 'SARS2_genome_ORF7a_counts', 'SARS2_genome_ORF7a_log', 'SARS2_genome_ORF8_counts', 'SARS2_genome_ORF8_log', 'SARS2_genome_N_counts', 'SARS2_genome_N_log', 'SARS2_genome_ORF10_counts', 'SARS2_genome_ORF10_log', 'sars2_total_counts', 'sars2_total_counts_log', 'sars2_lib_size_ratio', 'round', 'condition_variant', 'round_variant_condition', 'n_genes_by_counts', 'total_counts', 'total_counts_mt', 'pct_counts_mt', 'ts_consensus_prediction', 'ts_consensus_percentage', 'knn_on_bbknn_pred', 'knn_on_scvi_offline_pred', 'scanvi_offline_pred', 'svm_pred', 'rf_pred', 'onclass_pred', 'knn_on_scanorama_pred', '_scvi_batch', '_scvi_labels', 'infection_condition', 'gmm_3_infection_individual', 'gmm_3_infection_total', 'gmm_2_infection_individual', 'gmm_2_infection_total', 'gmm_infection', 'infection_gmm', 'infection_gmm_annotated', 'manual_ct_annotation', 'vision_clusters', 'vision_clusters_old', 'r1_vision_clusters_annotated_1', 'r1_vision_clusters_annotated_2', 'r2_vision_clusters_annotated', 'infection_str'\n",
       "    var: 'mt', 'n_cells_by_counts', 'mean_counts', 'pct_dropout_by_counts', 'total_counts', 'is_sars2_gene', 'mean', 'std'\n",
       "    uns: '_scvi', 'hvg', 'infection_colors', 'neighbors', 'round_colors', 'umap', 'variant_colors', 'log1p'\n",
       "    obsm: 'X_scVI', 'X_umap'\n",
       "    obsp: 'connectivities', 'distances'"
      ]
     },
     "execution_count": 11,
     "metadata": {},
     "output_type": "execute_result"
    }
   ],
   "source": [
    "\n",
    "ace2\n"
   ]
  },
  {
   "cell_type": "code",
   "execution_count": 12,
   "id": "driving-poverty",
   "metadata": {},
   "outputs": [
    {
     "data": {
      "text/plain": [
       "I    9454\n",
       "U    1161\n",
       "Name: infection, dtype: int64"
      ]
     },
     "execution_count": 12,
     "metadata": {},
     "output_type": "execute_result"
    }
   ],
   "source": [
    "ace2.obs['infection'].value_counts()"
   ]
  },
  {
   "cell_type": "code",
   "execution_count": 13,
   "id": "coordinated-wales",
   "metadata": {},
   "outputs": [
    {
     "name": "stderr",
     "output_type": "stream",
     "text": [
      "/home/galen/.pyenv/versions/scvi-dev/lib/python3.8/site-packages/scanpy/tools/_rank_genes_groups.py:420: RuntimeWarning: invalid value encountered in log2\n",
      "  self.stats[group_name, 'logfoldchanges'] = np.log2(\n"
     ]
    },
    {
     "data": {
      "image/png": "[encoded data removed]",
      "text/plain": [
       "<Figure size 460.8x345.6 with 1 Axes>"
      ]
     },
     "metadata": {
      "needs_background": "light"
     },
     "output_type": "display_data"
    }
   ],
   "source": [
    "sc.tl.rank_genes_groups(ace2, 'infection', method='t-test', groups=['I'], reference = 'U')\n",
    "sc.pl.rank_genes_groups(ace2, n_genes=25, sharey=False)"
   ]
  },
  {
   "cell_type": "code",
   "execution_count": 14,
   "id": "narrow-western",
   "metadata": {},
   "outputs": [
    {
     "name": "stderr",
     "output_type": "stream",
     "text": [
      "/home/galen/.pyenv/versions/scvi-dev/lib/python3.8/site-packages/scanpy/tools/_rank_genes_groups.py:420: RuntimeWarning: invalid value encountered in log2\n",
      "  self.stats[group_name, 'logfoldchanges'] = np.log2(\n"
     ]
    },
    {
     "data": {
      "image/png": "[encoded data removed]",
      "text/plain": [
       "<Figure size 864x288 with 2 Axes>"
      ]
     },
     "metadata": {
      "needs_background": "light"
     },
     "output_type": "display_data"
    }
   ],
   "source": [
    "sc.tl.rank_genes_groups(ace2,\n",
    "                        'infection_gmm_annotated', \n",
    "                        method='t-test',\n",
    "                        groups=['High Infection', 'Low Infection'], \n",
    "                        reference = 'Uninfected')\n",
    "\n",
    "sc.pl.rank_genes_groups(ace2, n_genes=25, sharey=False)"
   ]
  },
  {
   "cell_type": "code",
   "execution_count": 15,
   "id": "turkish-globe",
   "metadata": {},
   "outputs": [
    {
     "data": {
      "text/plain": [
       "AnnData object with n_obs × n_vars = 10615 × 36588\n",
       "    obs: 'infection', 'variant', 'condition', 'library_size', 'library_size_log', 'SARS2_genome_ORF1ab_counts', 'SARS2_genome_ORF1ab_log', 'SARS2_genome_S_counts', 'SARS2_genome_S_log', 'SARS2_genome_ORF3a_counts', 'SARS2_genome_ORF3a_log', 'SARS2_genome_E_counts', 'SARS2_genome_E_log', 'SARS2_genome_M_counts', 'SARS2_genome_M_log', 'SARS2_genome_ORF6_counts', 'SARS2_genome_ORF6_log', 'SARS2_genome_ORF7a_counts', 'SARS2_genome_ORF7a_log', 'SARS2_genome_ORF8_counts', 'SARS2_genome_ORF8_log', 'SARS2_genome_N_counts', 'SARS2_genome_N_log', 'SARS2_genome_ORF10_counts', 'SARS2_genome_ORF10_log', 'sars2_total_counts', 'sars2_total_counts_log', 'sars2_lib_size_ratio', 'round', 'condition_variant', 'round_variant_condition', 'n_genes_by_counts', 'total_counts', 'total_counts_mt', 'pct_counts_mt', 'ts_consensus_prediction', 'ts_consensus_percentage', 'knn_on_bbknn_pred', 'knn_on_scvi_offline_pred', 'scanvi_offline_pred', 'svm_pred', 'rf_pred', 'onclass_pred', 'knn_on_scanorama_pred', '_scvi_batch', '_scvi_labels', 'infection_condition', 'gmm_3_infection_individual', 'gmm_3_infection_total', 'gmm_2_infection_individual', 'gmm_2_infection_total', 'gmm_infection', 'infection_gmm', 'infection_gmm_annotated', 'manual_ct_annotation', 'vision_clusters', 'vision_clusters_old', 'r1_vision_clusters_annotated_1', 'r1_vision_clusters_annotated_2', 'r2_vision_clusters_annotated', 'infection_str'\n",
       "    var: 'mt', 'n_cells_by_counts', 'mean_counts', 'pct_dropout_by_counts', 'total_counts', 'is_sars2_gene', 'mean', 'std'\n",
       "    uns: '_scvi', 'hvg', 'infection_colors', 'neighbors', 'round_colors', 'umap', 'variant_colors', 'log1p', 'rank_genes_groups'\n",
       "    obsm: 'X_scVI', 'X_umap'\n",
       "    obsp: 'connectivities', 'distances'"
      ]
     },
     "execution_count": 15,
     "metadata": {},
     "output_type": "execute_result"
    }
   ],
   "source": [
    "ace2"
   ]
  },
  {
   "cell_type": "code",
   "execution_count": 16,
   "id": "perceived-southeast",
   "metadata": {},
   "outputs": [],
   "source": [
    "result = ace2.uns['rank_genes_groups']\n",
    "groups = result['names'].dtype.names\n",
    "df = pd.DataFrame(\n",
    "    {group + '_' + key[:1]: result[key][group]\n",
    "    for group in groups for key in ['names', 'pvals']})"
   ]
  },
  {
   "cell_type": "code",
   "execution_count": 17,
   "id": "enormous-allocation",
   "metadata": {},
   "outputs": [
    {
     "data": {
      "text/plain": [
       "array(['NFKBIA', 'PLAU', 'CXCL8', 'CXCL3', 'NCOA7', 'KLF6', 'ISG15',\n",
       "       'CXCL2', 'TNFAIP3', 'IRF1', 'CXCL1', 'EGR1', 'GADD45A', 'MX1',\n",
       "       'NFKBIZ', 'PPP1R15A', 'JUN', 'IRF7', 'IFIT1', 'IFI27', 'DUSP8',\n",
       "       'PMAIP1', 'ARRDC3', 'EDN1', 'IER2', 'RND3', 'IFIT3', 'IFI44L',\n",
       "       'AC127526.5', 'ELF3', 'PIM3', 'GADD45B', 'ATF3', 'RAB3IP', 'EPC1',\n",
       "       'ZC3H12A', 'GPBP1', 'SLC3A2', 'DAPP1', 'DDX58', 'IFI6', 'TM4SF1',\n",
       "       'FOSL1', 'XAF1', 'ISG20', 'AP003498.2', 'CSRNP1', 'N4BP1', 'CHD2',\n",
       "       'SOX9', 'IL32', 'HES1', 'RNF213', 'MX2', 'DDIT3', 'EIF2AK2',\n",
       "       'CFLAR', 'TNFRSF12A', 'OAS3', 'CCNI', 'RSRC2', 'EPSTI1', 'IFI44',\n",
       "       'ANKLE2', 'CHD9', 'AL627171.2', 'CCNL1', 'HNRNPDL', 'TXNIP',\n",
       "       'BIRC3', 'CLK1', 'IRF9', 'LRRFIP2', 'BHLHE40', 'RUNX1', 'SAMD9',\n",
       "       'TJP1', 'HDAC9', 'IFIH1', 'TGIF1', 'LINC01578', 'NR3C1', 'CCN1',\n",
       "       'ETS2', 'CCL20', 'RIOK3', 'HELZ2', 'TAF1D', 'REL', 'SP100',\n",
       "       'CREB5', 'PARP14', 'OAS2', 'IFNGR2', 'CLK4', 'RIPK2', 'IFIT2',\n",
       "       'USP18', 'DHX36', 'YTHDC1'], dtype=object)"
      ]
     },
     "execution_count": 17,
     "metadata": {},
     "output_type": "execute_result"
    }
   ],
   "source": [
    "\n",
    "df['High Infection_n'][:100].values\n"
   ]
  },
  {
   "cell_type": "code",
   "execution_count": 18,
   "id": "painted-worst",
   "metadata": {},
   "outputs": [],
   "source": [
    "high_inf_de_genes = df[['High Infection_n', 'High Infection_p']].values\n",
    "\n",
    "np.savetxt(\"7.2_go_analysis_results/round2_high_infection_vs_uninfected.csv\", high_inf_de_genes, delimiter=',', fmt='%s')\n"
   ]
  },
  {
   "cell_type": "code",
   "execution_count": 19,
   "id": "celtic-network",
   "metadata": {},
   "outputs": [
    {
     "data": {
      "text/plain": [
       "array([['NFKBIA', 0.0],\n",
       "       ['PLAU', 3.755169766621655e-250],\n",
       "       ['CXCL8', 4.6174843006275086e-222],\n",
       "       ...,\n",
       "       ['RPL41', 4.6096891364105206e-214],\n",
       "       ['S100A6', 1.0210253505539342e-217],\n",
       "       ['ANXA2', 1.3900546480030133e-308]], dtype=object)"
      ]
     },
     "execution_count": 19,
     "metadata": {},
     "output_type": "execute_result"
    }
   ],
   "source": [
    "\n",
    "high_inf_de_genes\n"
   ]
  },
  {
   "cell_type": "code",
   "execution_count": 21,
   "id": "specified-field",
   "metadata": {},
   "outputs": [],
   "source": [
    "np.savetxt(\"7.2_go_analysis_results/round2_high_infection_vs_uninfected_for_metascape.csv\", df['High Infection_n'][:100].values, delimiter=',', fmt='%s')"
   ]
  },
  {
   "cell_type": "code",
   "execution_count": 22,
   "id": "metropolitan-mitchell",
   "metadata": {},
   "outputs": [
    {
     "data": {
      "text/plain": [
       "array(['ISG15', 'MX1', 'IFIT1', 'IFIT3', 'IFI27', 'IFI6', 'IRF7',\n",
       "       'IFI44L', 'IFITM3', 'IFI44', 'MX2', 'OAS1', 'DDX58', 'IFITM1',\n",
       "       'STAT1', 'IFIT2', 'SAMD9', 'EPSTI1', 'EIF2AK2', 'ISG20', 'OAS3',\n",
       "       'NFKBIA', 'OAS2', 'XAF1', 'OASL', 'RSAD2', 'PLSCR1', 'PARP14',\n",
       "       'IFI35', 'TNFSF10', 'USP18', 'CMPK2', 'IRF9', 'DDX60L', 'RNF213',\n",
       "       'IRF1', 'SP110', 'SP100', 'PARP9', 'MT2A', 'UBE2L6', 'IFIH1',\n",
       "       'SAMD9L', 'HERC5', 'BST2', 'NCOA7', 'NT5C3A', 'SHFL', 'HELZ2',\n",
       "       'PNPT1', 'DDX60', 'SAMHD1', 'PSMB9', 'LAP3', 'TRIM22', 'PLAU',\n",
       "       'GBP1', 'CXCL8', 'PML', 'ETV7', 'HERC6', 'ADAR', 'WARS', 'RTP4',\n",
       "       'GADD45A', 'IFIT5', 'PMAIP1', 'HSH2D', 'PARP12', 'KRT14', 'CXCL2',\n",
       "       'CFLAR', 'IFI16', 'ZNFX1', 'DTX3L', 'PPM1K', 'MYD88', 'EDN1',\n",
       "       'PLAUR', 'TRIM25', 'PHF11', 'NMI', 'ZC3HAV1', 'TYMP', 'APOL6',\n",
       "       'GMPR', 'GBP4', 'LINC01138', 'OPTN', 'C5orf56', 'KLF6', 'LAMP3',\n",
       "       'ZBP1', 'HLA-F', 'AC116407.2', 'TDRD7', 'FBXO6', 'TAP1', 'LGALS9',\n",
       "       'IFITM2'], dtype=object)"
      ]
     },
     "execution_count": 22,
     "metadata": {},
     "output_type": "execute_result"
    }
   ],
   "source": [
    "df['Low Infection_n'][:100].values"
   ]
  },
  {
   "cell_type": "code",
   "execution_count": 23,
   "id": "cooperative-maintenance",
   "metadata": {},
   "outputs": [],
   "source": [
    "np.savetxt(\"7.2_go_analysis_results/round2_low_infection_vs_uninfected_for_metascape.csv\", df['Low Infection_n'][:100].values, delimiter=',', fmt='%s')"
   ]
  },
  {
   "cell_type": "code",
   "execution_count": null,
   "id": "specific-disorder",
   "metadata": {},
   "outputs": [],
   "source": []
  }
 ],
 "metadata": {
  "kernelspec": {
   "display_name": "Python 3.8.3 64-bit ('scvi-dev': venv)",
   "language": "python",
   "name": "python38364bitscvidevvenv4fb90fe562ab4b5189ac0b527fd52a97"
  },
  "language_info": {
   "codemirror_mode": {
    "name": "ipython",
    "version": 3
   },
   "file_extension": ".py",
   "mimetype": "text/x-python",
   "name": "python",
   "nbconvert_exporter": "python",
   "pygments_lexer": "ipython3",
   "version": "3.8.3"
  }
 },
 "nbformat": 4,
 "nbformat_minor": 5
}
