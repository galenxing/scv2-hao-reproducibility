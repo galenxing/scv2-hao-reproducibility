{
 "cells": [
  {
   "cell_type": "code",
   "execution_count": 1,
   "id": "italian-rally",
   "metadata": {},
   "outputs": [
    {
     "name": "stderr",
     "output_type": "stream",
     "text": [
      "Global seed set to 0\n"
     ]
    }
   ],
   "source": [
    "import scvi\n",
    "import scanpy as sc\n",
    "import anndata\n",
    "import numpy as np\n",
    "import os\n",
    "import pandas as pd\n",
    "import matplotlib.pyplot as plt\n",
    "import sklearn"
   ]
  },
  {
   "cell_type": "code",
   "execution_count": 2,
   "id": "under-travel",
   "metadata": {},
   "outputs": [
    {
     "data": {
      "text/plain": [
       "'0.24.2'"
      ]
     },
     "execution_count": 2,
     "metadata": {},
     "output_type": "execute_result"
    }
   ],
   "source": [
    "sklearn.__version__"
   ]
  },
  {
   "cell_type": "code",
   "execution_count": 3,
   "id": "iraqi-generic",
   "metadata": {},
   "outputs": [],
   "source": [
    "import warnings\n",
    "warnings.filterwarnings('ignore')"
   ]
  },
  {
   "cell_type": "code",
   "execution_count": 4,
   "id": "fuzzy-browser",
   "metadata": {},
   "outputs": [],
   "source": [
    "from sklearn.mixture import GaussianMixture\n",
    "\n",
    "def classify_with_gmm(x, n_components):\n",
    "    gm = GaussianMixture(n_components=n_components).fit(x)\n",
    "    return gm, gm.predict_proba(x), gm.means_\n",
    "\n",
    "def classify_infection(adata, genes, save_key, batch_key, n_components):\n",
    "    batches = list(np.unique(adata.obs[batch_key]))\n",
    "    probs_save_key = save_key+'_probs'\n",
    "    \n",
    "    adata.obs[save_key] = 'na'\n",
    "    adata.obsm[probs_save_key] = pd.DataFrame(index=adata.obs_names, data=np.zeros((adata.n_obs, n_components)))\n",
    "    bics={}\n",
    "    for batch in batches:\n",
    "        batch_adata = adata[adata.obs[batch_key] == batch]\n",
    "\n",
    "        probs = np.zeros((batch_adata.n_obs, n_components))\n",
    "        tmp_bics = []\n",
    "        for gene in genes:\n",
    "            x = np.array(batch_adata.obs[gene]).reshape(-1, 1)\n",
    "            gm, prob, means = classify_with_gmm(x, n_components=n_components)\n",
    "            bic = gm.bic(x)\n",
    "            \n",
    "            index = np.argsort(means.flatten())\n",
    "            prob[:] = prob[:, index]\n",
    "            probs = np.add(probs,prob)\n",
    "            tmp_bics.append(bic)\n",
    "            \n",
    "        bics[batch] = np.mean(np.array(tmp_bics))\n",
    "\n",
    "        adata.obs[save_key][batch_adata.obs_names] = np.argmax(probs, axis=1)\n",
    "        adata.obs[save_key] = adata.obs[save_key].astype(str)\n",
    "        adata.obsm[probs_save_key].loc[batch_adata.obs_names] = probs\n",
    "        \n",
    "    bics = pd.DataFrame.from_dict(bics, orient='index', columns=[save_key])\n",
    "    return bics"
   ]
  },
  {
   "cell_type": "code",
   "execution_count": 5,
   "id": "lesbian-calcium",
   "metadata": {},
   "outputs": [],
   "source": [
    "adata_fn = '../data/round1round2_processed.h5ad'\n",
    "\n",
    "adata = anndata.read(adata_fn)"
   ]
  },
  {
   "cell_type": "code",
   "execution_count": 6,
   "id": "included-taxation",
   "metadata": {},
   "outputs": [],
   "source": [
    "batch_key = \"round_variant_condition\"\n",
    "variants = list(np.unique(adata.obs[batch_key]))"
   ]
  },
  {
   "cell_type": "markdown",
   "id": "modern-strip",
   "metadata": {},
   "source": [
    "# 3 components on each individual gene"
   ]
  },
  {
   "cell_type": "code",
   "execution_count": 7,
   "id": "collected-library",
   "metadata": {},
   "outputs": [],
   "source": [
    "n_components = 3\n",
    "\n",
    "save_key='gmm_3_infection_individual'\n",
    "\n",
    "variants= list(np.unique(adata.obs[batch_key]))\n",
    "\n",
    "sars_genes = [g for g in adata.var_names if g.startswith('SARS2_genome')]\n",
    "sars_genes = [g+'_log' for g in sars_genes]\n",
    "\n",
    "bics_3_ind = classify_infection(adata=adata,\n",
    "                   genes=sars_genes, \n",
    "                   save_key=save_key,\n",
    "                   batch_key=batch_key,\n",
    "                   n_components=n_components\n",
    "                  )"
   ]
  },
  {
   "cell_type": "code",
   "execution_count": 8,
   "id": "imposed-spouse",
   "metadata": {},
   "outputs": [
    {
     "data": {
      "text/plain": [
       "AnnData object with n_obs × n_vars = 38462 × 36611\n",
       "    obs: 'infection', 'variant', 'condition', 'library_size', 'library_size_log', 'SARS2_genome_ORF1ab_counts', 'SARS2_genome_ORF1ab_log', 'SARS2_genome_S_counts', 'SARS2_genome_S_log', 'SARS2_genome_ORF3a_counts', 'SARS2_genome_ORF3a_log', 'SARS2_genome_E_counts', 'SARS2_genome_E_log', 'SARS2_genome_M_counts', 'SARS2_genome_M_log', 'SARS2_genome_ORF6_counts', 'SARS2_genome_ORF6_log', 'SARS2_genome_ORF7a_counts', 'SARS2_genome_ORF7a_log', 'SARS2_genome_ORF8_counts', 'SARS2_genome_ORF8_log', 'SARS2_genome_N_counts', 'SARS2_genome_N_log', 'SARS2_genome_ORF10_counts', 'SARS2_genome_ORF10_log', 'sars2_total_counts', 'sars2_total_counts_log', 'sars2_lib_size_ratio', 'round', 'condition_variant', 'round_variant_condition', 'n_genes_by_counts', 'total_counts', 'total_counts_mt', 'pct_counts_mt', 'gmm_3_infection_individual'\n",
       "    var: 'mt', 'n_cells_by_counts', 'mean_counts', 'pct_dropout_by_counts', 'total_counts'\n",
       "    obsm: 'gmm_3_infection_individual_probs'"
      ]
     },
     "execution_count": 8,
     "metadata": {},
     "output_type": "execute_result"
    }
   ],
   "source": [
    "adata"
   ]
  },
  {
   "cell_type": "code",
   "execution_count": 9,
   "id": "straight-parker",
   "metadata": {},
   "outputs": [],
   "source": [
    "total_prob = adata.obsm['gmm_3_infection_individual_probs'].sum(axis=1)\n"
   ]
  },
  {
   "cell_type": "code",
   "execution_count": 10,
   "id": "meaning-terrace",
   "metadata": {},
   "outputs": [
    {
     "data": {
      "text/plain": [
       "(array([ 1536.,  1357.,   758.,   689., 10094.,   541.,   901.,  8075.,\n",
       "         5011.,  9500.]),\n",
       " array([0.        , 0.09999987, 0.19999974, 0.29999961, 0.39999948,\n",
       "        0.49999935, 0.59999922, 0.69999909, 0.79999896, 0.89999883,\n",
       "        0.9999987 ]),\n",
       " <BarContainer object of 10 artists>)"
      ]
     },
     "execution_count": 10,
     "metadata": {},
     "output_type": "execute_result"
    },
    {
     "data": {
      "image/png": "[encoded data removed]",
      "text/plain": [
       "<Figure size 432x288 with 1 Axes>"
      ]
     },
     "metadata": {
      "needs_background": "light"
     },
     "output_type": "display_data"
    }
   ],
   "source": [
    "plt.hist(adata.obsm['gmm_3_infection_individual_probs'].divide(total_prob, axis=0)[0])"
   ]
  },
  {
   "cell_type": "code",
   "execution_count": 11,
   "id": "transparent-indiana",
   "metadata": {},
   "outputs": [
    {
     "data": {
      "text/html": [
       "<div>\n",
       "<style scoped>\n",
       "    .dataframe tbody tr th:only-of-type {\n",
       "        vertical-align: middle;\n",
       "    }\n",
       "\n",
       "    .dataframe tbody tr th {\n",
       "        vertical-align: top;\n",
       "    }\n",
       "\n",
       "    .dataframe thead th {\n",
       "        text-align: right;\n",
       "    }\n",
       "</style>\n",
       "<table border=\"1\" class=\"dataframe\">\n",
       "  <thead>\n",
       "    <tr style=\"text-align: right;\">\n",
       "      <th>gmm_3_infection_individual</th>\n",
       "      <th>0</th>\n",
       "      <th>1</th>\n",
       "      <th>2</th>\n",
       "    </tr>\n",
       "    <tr>\n",
       "      <th>round_variant_condition</th>\n",
       "      <th></th>\n",
       "      <th></th>\n",
       "      <th></th>\n",
       "    </tr>\n",
       "  </thead>\n",
       "  <tbody>\n",
       "    <tr>\n",
       "      <th>round_1_Uninfected_1_ACE2</th>\n",
       "      <td>0</td>\n",
       "      <td>9519</td>\n",
       "      <td>0</td>\n",
       "    </tr>\n",
       "    <tr>\n",
       "      <th>round_1_Uninfected_1_WT</th>\n",
       "      <td>4584</td>\n",
       "      <td>0</td>\n",
       "      <td>0</td>\n",
       "    </tr>\n",
       "    <tr>\n",
       "      <th>round_1_WA1_1_ACE2</th>\n",
       "      <td>5813</td>\n",
       "      <td>1505</td>\n",
       "      <td>647</td>\n",
       "    </tr>\n",
       "    <tr>\n",
       "      <th>round_1_WA1_1_WT</th>\n",
       "      <td>5702</td>\n",
       "      <td>2</td>\n",
       "      <td>75</td>\n",
       "    </tr>\n",
       "    <tr>\n",
       "      <th>round_2_B.1.1.7_ACE2</th>\n",
       "      <td>1434</td>\n",
       "      <td>37</td>\n",
       "      <td>217</td>\n",
       "    </tr>\n",
       "    <tr>\n",
       "      <th>round_2_B.1.351_ACE2</th>\n",
       "      <td>1749</td>\n",
       "      <td>79</td>\n",
       "      <td>304</td>\n",
       "    </tr>\n",
       "    <tr>\n",
       "      <th>round_2_B.1.351_delta_ACE2</th>\n",
       "      <td>1198</td>\n",
       "      <td>487</td>\n",
       "      <td>594</td>\n",
       "    </tr>\n",
       "    <tr>\n",
       "      <th>round_2_B.1.429_ACE2</th>\n",
       "      <td>1111</td>\n",
       "      <td>142</td>\n",
       "      <td>158</td>\n",
       "    </tr>\n",
       "    <tr>\n",
       "      <th>round_2_Uninfected_2_ACE2</th>\n",
       "      <td>1161</td>\n",
       "      <td>0</td>\n",
       "      <td>0</td>\n",
       "    </tr>\n",
       "    <tr>\n",
       "      <th>round_2_WA1_2_ACE2</th>\n",
       "      <td>1704</td>\n",
       "      <td>86</td>\n",
       "      <td>154</td>\n",
       "    </tr>\n",
       "  </tbody>\n",
       "</table>\n",
       "</div>"
      ],
      "text/plain": [
       "gmm_3_infection_individual     0     1    2\n",
       "round_variant_condition                    \n",
       "round_1_Uninfected_1_ACE2      0  9519    0\n",
       "round_1_Uninfected_1_WT     4584     0    0\n",
       "round_1_WA1_1_ACE2          5813  1505  647\n",
       "round_1_WA1_1_WT            5702     2   75\n",
       "round_2_B.1.1.7_ACE2        1434    37  217\n",
       "round_2_B.1.351_ACE2        1749    79  304\n",
       "round_2_B.1.351_delta_ACE2  1198   487  594\n",
       "round_2_B.1.429_ACE2        1111   142  158\n",
       "round_2_Uninfected_2_ACE2   1161     0    0\n",
       "round_2_WA1_2_ACE2          1704    86  154"
      ]
     },
     "execution_count": 11,
     "metadata": {},
     "output_type": "execute_result"
    }
   ],
   "source": [
    "adata.obs.groupby(['round_variant_condition', save_key]).size().unstack(level=1)"
   ]
  },
  {
   "cell_type": "markdown",
   "id": "floral-memorabilia",
   "metadata": {},
   "source": [
    "# 3 components on total sum"
   ]
  },
  {
   "cell_type": "code",
   "execution_count": 12,
   "id": "uniform-surgeon",
   "metadata": {},
   "outputs": [
    {
     "data": {
      "text/plain": [
       "AnnData object with n_obs × n_vars = 38462 × 36611\n",
       "    obs: 'infection', 'variant', 'condition', 'library_size', 'library_size_log', 'SARS2_genome_ORF1ab_counts', 'SARS2_genome_ORF1ab_log', 'SARS2_genome_S_counts', 'SARS2_genome_S_log', 'SARS2_genome_ORF3a_counts', 'SARS2_genome_ORF3a_log', 'SARS2_genome_E_counts', 'SARS2_genome_E_log', 'SARS2_genome_M_counts', 'SARS2_genome_M_log', 'SARS2_genome_ORF6_counts', 'SARS2_genome_ORF6_log', 'SARS2_genome_ORF7a_counts', 'SARS2_genome_ORF7a_log', 'SARS2_genome_ORF8_counts', 'SARS2_genome_ORF8_log', 'SARS2_genome_N_counts', 'SARS2_genome_N_log', 'SARS2_genome_ORF10_counts', 'SARS2_genome_ORF10_log', 'sars2_total_counts', 'sars2_total_counts_log', 'sars2_lib_size_ratio', 'round', 'condition_variant', 'round_variant_condition', 'n_genes_by_counts', 'total_counts', 'total_counts_mt', 'pct_counts_mt', 'gmm_3_infection_individual'\n",
       "    var: 'mt', 'n_cells_by_counts', 'mean_counts', 'pct_dropout_by_counts', 'total_counts'\n",
       "    obsm: 'gmm_3_infection_individual_probs'"
      ]
     },
     "execution_count": 12,
     "metadata": {},
     "output_type": "execute_result"
    }
   ],
   "source": [
    "adata"
   ]
  },
  {
   "cell_type": "code",
   "execution_count": 13,
   "id": "independent-bernard",
   "metadata": {},
   "outputs": [],
   "source": [
    "n_components = 3\n",
    "\n",
    "save_key='gmm_3_infection_total'\n",
    "\n",
    "variants= list(np.unique(adata.obs[batch_key]))\n",
    "\n",
    "sars_genes = ['sars2_total_counts_log']\n",
    "bics_3_total = classify_infection(adata=adata,\n",
    "                   genes=sars_genes, \n",
    "                   save_key=save_key,\n",
    "                   batch_key=batch_key,\n",
    "                   n_components=n_components\n",
    "                  )"
   ]
  },
  {
   "cell_type": "markdown",
   "id": "fitted-proportion",
   "metadata": {},
   "source": [
    "# 2 components on each individual gene"
   ]
  },
  {
   "cell_type": "code",
   "execution_count": 14,
   "id": "mounted-entry",
   "metadata": {},
   "outputs": [],
   "source": [
    "n_components = 2\n",
    "\n",
    "save_key='gmm_2_infection_individual'\n",
    "variants= list(np.unique(adata.obs[batch_key]))\n",
    "\n",
    "sars_genes = ['sars2_total_counts_log']\n",
    "bics_2_ind = classify_infection(adata=adata,\n",
    "                   genes=sars_genes, \n",
    "                   save_key=save_key,\n",
    "                   batch_key=batch_key,\n",
    "                   n_components=n_components\n",
    "                  )"
   ]
  },
  {
   "cell_type": "markdown",
   "id": "aware-centre",
   "metadata": {},
   "source": [
    "# 2 components on total sum"
   ]
  },
  {
   "cell_type": "code",
   "execution_count": 15,
   "id": "tender-witness",
   "metadata": {},
   "outputs": [],
   "source": [
    "n_components = 2\n",
    "\n",
    "save_key='gmm_2_infection_total'\n",
    "\n",
    "variants= list(np.unique(adata.obs[batch_key]))\n",
    "\n",
    "sars_genes = [g for g in adata.var_names if g.startswith('SARS2_genome')]\n",
    "sars_genes = [g+'_log' for g in sars_genes]\n",
    "\n",
    "bics_2_total = classify_infection(adata=adata,\n",
    "                   genes=sars_genes, \n",
    "                   save_key=save_key,\n",
    "                   batch_key=batch_key,\n",
    "                   n_components=n_components\n",
    "                  )"
   ]
  },
  {
   "cell_type": "code",
   "execution_count": 16,
   "id": "developmental-prediction",
   "metadata": {},
   "outputs": [
    {
     "data": {
      "text/plain": [
       "AnnData object with n_obs × n_vars = 38462 × 36611\n",
       "    obs: 'infection', 'variant', 'condition', 'library_size', 'library_size_log', 'SARS2_genome_ORF1ab_counts', 'SARS2_genome_ORF1ab_log', 'SARS2_genome_S_counts', 'SARS2_genome_S_log', 'SARS2_genome_ORF3a_counts', 'SARS2_genome_ORF3a_log', 'SARS2_genome_E_counts', 'SARS2_genome_E_log', 'SARS2_genome_M_counts', 'SARS2_genome_M_log', 'SARS2_genome_ORF6_counts', 'SARS2_genome_ORF6_log', 'SARS2_genome_ORF7a_counts', 'SARS2_genome_ORF7a_log', 'SARS2_genome_ORF8_counts', 'SARS2_genome_ORF8_log', 'SARS2_genome_N_counts', 'SARS2_genome_N_log', 'SARS2_genome_ORF10_counts', 'SARS2_genome_ORF10_log', 'sars2_total_counts', 'sars2_total_counts_log', 'sars2_lib_size_ratio', 'round', 'condition_variant', 'round_variant_condition', 'n_genes_by_counts', 'total_counts', 'total_counts_mt', 'pct_counts_mt', 'gmm_3_infection_individual', 'gmm_3_infection_total', 'gmm_2_infection_individual', 'gmm_2_infection_total'\n",
       "    var: 'mt', 'n_cells_by_counts', 'mean_counts', 'pct_dropout_by_counts', 'total_counts'\n",
       "    obsm: 'gmm_3_infection_individual_probs', 'gmm_3_infection_total_probs', 'gmm_2_infection_individual_probs', 'gmm_2_infection_total_probs'"
      ]
     },
     "execution_count": 16,
     "metadata": {},
     "output_type": "execute_result"
    }
   ],
   "source": [
    "adata"
   ]
  },
  {
   "cell_type": "code",
   "execution_count": 17,
   "id": "collective-telling",
   "metadata": {},
   "outputs": [
    {
     "data": {
      "text/html": [
       "<div>\n",
       "<style scoped>\n",
       "    .dataframe tbody tr th:only-of-type {\n",
       "        vertical-align: middle;\n",
       "    }\n",
       "\n",
       "    .dataframe tbody tr th {\n",
       "        vertical-align: top;\n",
       "    }\n",
       "\n",
       "    .dataframe thead th {\n",
       "        text-align: right;\n",
       "    }\n",
       "</style>\n",
       "<table border=\"1\" class=\"dataframe\">\n",
       "  <thead>\n",
       "    <tr style=\"text-align: right;\">\n",
       "      <th></th>\n",
       "      <th>gmm_2_infection_total</th>\n",
       "    </tr>\n",
       "  </thead>\n",
       "  <tbody>\n",
       "    <tr>\n",
       "      <th>round_1_Uninfected_1_ACE2</th>\n",
       "      <td>-113899.650722</td>\n",
       "    </tr>\n",
       "    <tr>\n",
       "      <th>round_1_Uninfected_1_WT</th>\n",
       "      <td>-54832.072060</td>\n",
       "    </tr>\n",
       "    <tr>\n",
       "      <th>round_1_WA1_1_ACE2</th>\n",
       "      <td>-32369.066617</td>\n",
       "    </tr>\n",
       "    <tr>\n",
       "      <th>round_1_WA1_1_WT</th>\n",
       "      <td>-64461.895437</td>\n",
       "    </tr>\n",
       "    <tr>\n",
       "      <th>round_2_B.1.1.7_ACE2</th>\n",
       "      <td>-8310.241770</td>\n",
       "    </tr>\n",
       "    <tr>\n",
       "      <th>round_2_B.1.351_ACE2</th>\n",
       "      <td>-6883.390517</td>\n",
       "    </tr>\n",
       "    <tr>\n",
       "      <th>round_2_B.1.351_delta_ACE2</th>\n",
       "      <td>-2686.916659</td>\n",
       "    </tr>\n",
       "    <tr>\n",
       "      <th>round_2_B.1.429_ACE2</th>\n",
       "      <td>-5443.894786</td>\n",
       "    </tr>\n",
       "    <tr>\n",
       "      <th>round_2_Uninfected_2_ACE2</th>\n",
       "      <td>-13863.350377</td>\n",
       "    </tr>\n",
       "    <tr>\n",
       "      <th>round_2_WA1_2_ACE2</th>\n",
       "      <td>-10088.444748</td>\n",
       "    </tr>\n",
       "  </tbody>\n",
       "</table>\n",
       "</div>"
      ],
      "text/plain": [
       "                            gmm_2_infection_total\n",
       "round_1_Uninfected_1_ACE2          -113899.650722\n",
       "round_1_Uninfected_1_WT             -54832.072060\n",
       "round_1_WA1_1_ACE2                  -32369.066617\n",
       "round_1_WA1_1_WT                    -64461.895437\n",
       "round_2_B.1.1.7_ACE2                 -8310.241770\n",
       "round_2_B.1.351_ACE2                 -6883.390517\n",
       "round_2_B.1.351_delta_ACE2           -2686.916659\n",
       "round_2_B.1.429_ACE2                 -5443.894786\n",
       "round_2_Uninfected_2_ACE2           -13863.350377\n",
       "round_2_WA1_2_ACE2                  -10088.444748"
      ]
     },
     "execution_count": 17,
     "metadata": {},
     "output_type": "execute_result"
    }
   ],
   "source": [
    "bics_2_total"
   ]
  },
  {
   "cell_type": "code",
   "execution_count": 18,
   "id": "refined-diary",
   "metadata": {},
   "outputs": [
    {
     "data": {
      "text/html": [
       "<div>\n",
       "<style scoped>\n",
       "    .dataframe tbody tr th:only-of-type {\n",
       "        vertical-align: middle;\n",
       "    }\n",
       "\n",
       "    .dataframe tbody tr th {\n",
       "        vertical-align: top;\n",
       "    }\n",
       "\n",
       "    .dataframe thead th {\n",
       "        text-align: right;\n",
       "    }\n",
       "</style>\n",
       "<table border=\"1\" class=\"dataframe\">\n",
       "  <thead>\n",
       "    <tr style=\"text-align: right;\">\n",
       "      <th></th>\n",
       "      <th>gmm_2_infection_individual</th>\n",
       "    </tr>\n",
       "  </thead>\n",
       "  <tbody>\n",
       "    <tr>\n",
       "      <th>round_1_Uninfected_1_ACE2</th>\n",
       "      <td>-113193.671082</td>\n",
       "    </tr>\n",
       "    <tr>\n",
       "      <th>round_1_Uninfected_1_WT</th>\n",
       "      <td>-54611.545828</td>\n",
       "    </tr>\n",
       "    <tr>\n",
       "      <th>round_1_WA1_1_ACE2</th>\n",
       "      <td>28522.587629</td>\n",
       "    </tr>\n",
       "    <tr>\n",
       "      <th>round_1_WA1_1_WT</th>\n",
       "      <td>-48571.954197</td>\n",
       "    </tr>\n",
       "    <tr>\n",
       "      <th>round_2_B.1.1.7_ACE2</th>\n",
       "      <td>5980.030978</td>\n",
       "    </tr>\n",
       "    <tr>\n",
       "      <th>round_2_B.1.351_ACE2</th>\n",
       "      <td>7896.354643</td>\n",
       "    </tr>\n",
       "    <tr>\n",
       "      <th>round_2_B.1.351_delta_ACE2</th>\n",
       "      <td>11138.070818</td>\n",
       "    </tr>\n",
       "    <tr>\n",
       "      <th>round_2_B.1.429_ACE2</th>\n",
       "      <td>5637.624163</td>\n",
       "    </tr>\n",
       "    <tr>\n",
       "      <th>round_2_Uninfected_2_ACE2</th>\n",
       "      <td>-13806.292872</td>\n",
       "    </tr>\n",
       "    <tr>\n",
       "      <th>round_2_WA1_2_ACE2</th>\n",
       "      <td>6115.790706</td>\n",
       "    </tr>\n",
       "  </tbody>\n",
       "</table>\n",
       "</div>"
      ],
      "text/plain": [
       "                            gmm_2_infection_individual\n",
       "round_1_Uninfected_1_ACE2               -113193.671082\n",
       "round_1_Uninfected_1_WT                  -54611.545828\n",
       "round_1_WA1_1_ACE2                        28522.587629\n",
       "round_1_WA1_1_WT                         -48571.954197\n",
       "round_2_B.1.1.7_ACE2                       5980.030978\n",
       "round_2_B.1.351_ACE2                       7896.354643\n",
       "round_2_B.1.351_delta_ACE2                11138.070818\n",
       "round_2_B.1.429_ACE2                       5637.624163\n",
       "round_2_Uninfected_2_ACE2                -13806.292872\n",
       "round_2_WA1_2_ACE2                         6115.790706"
      ]
     },
     "execution_count": 18,
     "metadata": {},
     "output_type": "execute_result"
    }
   ],
   "source": [
    "bics_2_ind"
   ]
  },
  {
   "cell_type": "code",
   "execution_count": 19,
   "id": "suburban-henry",
   "metadata": {},
   "outputs": [
    {
     "data": {
      "text/html": [
       "<div>\n",
       "<style scoped>\n",
       "    .dataframe tbody tr th:only-of-type {\n",
       "        vertical-align: middle;\n",
       "    }\n",
       "\n",
       "    .dataframe tbody tr th {\n",
       "        vertical-align: top;\n",
       "    }\n",
       "\n",
       "    .dataframe thead th {\n",
       "        text-align: right;\n",
       "    }\n",
       "</style>\n",
       "<table border=\"1\" class=\"dataframe\">\n",
       "  <thead>\n",
       "    <tr style=\"text-align: right;\">\n",
       "      <th></th>\n",
       "      <th>gmm_3_infection_total</th>\n",
       "    </tr>\n",
       "  </thead>\n",
       "  <tbody>\n",
       "    <tr>\n",
       "      <th>round_1_Uninfected_1_ACE2</th>\n",
       "      <td>-113476.575271</td>\n",
       "    </tr>\n",
       "    <tr>\n",
       "      <th>round_1_Uninfected_1_WT</th>\n",
       "      <td>-54676.441594</td>\n",
       "    </tr>\n",
       "    <tr>\n",
       "      <th>round_1_WA1_1_ACE2</th>\n",
       "      <td>28548.488857</td>\n",
       "    </tr>\n",
       "    <tr>\n",
       "      <th>round_1_WA1_1_WT</th>\n",
       "      <td>-50332.614295</td>\n",
       "    </tr>\n",
       "    <tr>\n",
       "      <th>round_2_B.1.1.7_ACE2</th>\n",
       "      <td>6001.281735</td>\n",
       "    </tr>\n",
       "    <tr>\n",
       "      <th>round_2_B.1.351_ACE2</th>\n",
       "      <td>7826.212454</td>\n",
       "    </tr>\n",
       "    <tr>\n",
       "      <th>round_2_B.1.351_delta_ACE2</th>\n",
       "      <td>9607.095150</td>\n",
       "    </tr>\n",
       "    <tr>\n",
       "      <th>round_2_B.1.429_ACE2</th>\n",
       "      <td>5624.949191</td>\n",
       "    </tr>\n",
       "    <tr>\n",
       "      <th>round_2_Uninfected_2_ACE2</th>\n",
       "      <td>-13785.121761</td>\n",
       "    </tr>\n",
       "    <tr>\n",
       "      <th>round_2_WA1_2_ACE2</th>\n",
       "      <td>6133.019038</td>\n",
       "    </tr>\n",
       "  </tbody>\n",
       "</table>\n",
       "</div>"
      ],
      "text/plain": [
       "                            gmm_3_infection_total\n",
       "round_1_Uninfected_1_ACE2          -113476.575271\n",
       "round_1_Uninfected_1_WT             -54676.441594\n",
       "round_1_WA1_1_ACE2                   28548.488857\n",
       "round_1_WA1_1_WT                    -50332.614295\n",
       "round_2_B.1.1.7_ACE2                  6001.281735\n",
       "round_2_B.1.351_ACE2                  7826.212454\n",
       "round_2_B.1.351_delta_ACE2            9607.095150\n",
       "round_2_B.1.429_ACE2                  5624.949191\n",
       "round_2_Uninfected_2_ACE2           -13785.121761\n",
       "round_2_WA1_2_ACE2                    6133.019038"
      ]
     },
     "execution_count": 19,
     "metadata": {},
     "output_type": "execute_result"
    }
   ],
   "source": [
    "bics_3_total"
   ]
  },
  {
   "cell_type": "code",
   "execution_count": 20,
   "id": "unlimited-miller",
   "metadata": {},
   "outputs": [
    {
     "data": {
      "text/html": [
       "<div>\n",
       "<style scoped>\n",
       "    .dataframe tbody tr th:only-of-type {\n",
       "        vertical-align: middle;\n",
       "    }\n",
       "\n",
       "    .dataframe tbody tr th {\n",
       "        vertical-align: top;\n",
       "    }\n",
       "\n",
       "    .dataframe thead th {\n",
       "        text-align: right;\n",
       "    }\n",
       "</style>\n",
       "<table border=\"1\" class=\"dataframe\">\n",
       "  <thead>\n",
       "    <tr style=\"text-align: right;\">\n",
       "      <th></th>\n",
       "      <th>gmm_3_infection_individual</th>\n",
       "    </tr>\n",
       "  </thead>\n",
       "  <tbody>\n",
       "    <tr>\n",
       "      <th>round_1_Uninfected_1_ACE2</th>\n",
       "      <td>-113884.937095</td>\n",
       "    </tr>\n",
       "    <tr>\n",
       "      <th>round_1_Uninfected_1_WT</th>\n",
       "      <td>-54812.283847</td>\n",
       "    </tr>\n",
       "    <tr>\n",
       "      <th>round_1_WA1_1_ACE2</th>\n",
       "      <td>-36550.035029</td>\n",
       "    </tr>\n",
       "    <tr>\n",
       "      <th>round_1_WA1_1_WT</th>\n",
       "      <td>-65477.448326</td>\n",
       "    </tr>\n",
       "    <tr>\n",
       "      <th>round_2_B.1.1.7_ACE2</th>\n",
       "      <td>-9941.420163</td>\n",
       "    </tr>\n",
       "    <tr>\n",
       "      <th>round_2_B.1.351_ACE2</th>\n",
       "      <td>-10326.998375</td>\n",
       "    </tr>\n",
       "    <tr>\n",
       "      <th>round_2_B.1.351_delta_ACE2</th>\n",
       "      <td>-7467.635457</td>\n",
       "    </tr>\n",
       "    <tr>\n",
       "      <th>round_2_B.1.429_ACE2</th>\n",
       "      <td>-6465.213418</td>\n",
       "    </tr>\n",
       "    <tr>\n",
       "      <th>round_2_Uninfected_2_ACE2</th>\n",
       "      <td>-13842.179266</td>\n",
       "    </tr>\n",
       "    <tr>\n",
       "      <th>round_2_WA1_2_ACE2</th>\n",
       "      <td>-12025.745099</td>\n",
       "    </tr>\n",
       "  </tbody>\n",
       "</table>\n",
       "</div>"
      ],
      "text/plain": [
       "                            gmm_3_infection_individual\n",
       "round_1_Uninfected_1_ACE2               -113884.937095\n",
       "round_1_Uninfected_1_WT                  -54812.283847\n",
       "round_1_WA1_1_ACE2                       -36550.035029\n",
       "round_1_WA1_1_WT                         -65477.448326\n",
       "round_2_B.1.1.7_ACE2                      -9941.420163\n",
       "round_2_B.1.351_ACE2                     -10326.998375\n",
       "round_2_B.1.351_delta_ACE2                -7467.635457\n",
       "round_2_B.1.429_ACE2                      -6465.213418\n",
       "round_2_Uninfected_2_ACE2                -13842.179266\n",
       "round_2_WA1_2_ACE2                       -12025.745099"
      ]
     },
     "execution_count": 20,
     "metadata": {},
     "output_type": "execute_result"
    }
   ],
   "source": [
    "bics_3_ind"
   ]
  },
  {
   "cell_type": "code",
   "execution_count": 21,
   "id": "illegal-shark",
   "metadata": {},
   "outputs": [],
   "source": [
    "bics = pd.concat((bics_2_ind, bics_2_total, bics_3_ind, bics_3_total), axis=1)"
   ]
  },
  {
   "cell_type": "code",
   "execution_count": 22,
   "id": "designing-street",
   "metadata": {},
   "outputs": [
    {
     "data": {
      "text/html": [
       "<div>\n",
       "<style scoped>\n",
       "    .dataframe tbody tr th:only-of-type {\n",
       "        vertical-align: middle;\n",
       "    }\n",
       "\n",
       "    .dataframe tbody tr th {\n",
       "        vertical-align: top;\n",
       "    }\n",
       "\n",
       "    .dataframe thead th {\n",
       "        text-align: right;\n",
       "    }\n",
       "</style>\n",
       "<table border=\"1\" class=\"dataframe\">\n",
       "  <thead>\n",
       "    <tr style=\"text-align: right;\">\n",
       "      <th></th>\n",
       "      <th>gmm_2_infection_individual</th>\n",
       "      <th>gmm_2_infection_total</th>\n",
       "      <th>gmm_3_infection_individual</th>\n",
       "      <th>gmm_3_infection_total</th>\n",
       "    </tr>\n",
       "  </thead>\n",
       "  <tbody>\n",
       "    <tr>\n",
       "      <th>round_1_Uninfected_1_ACE2</th>\n",
       "      <td>-113193.671082</td>\n",
       "      <td>-113899.650722</td>\n",
       "      <td>-113884.937095</td>\n",
       "      <td>-113476.575271</td>\n",
       "    </tr>\n",
       "    <tr>\n",
       "      <th>round_1_Uninfected_1_WT</th>\n",
       "      <td>-54611.545828</td>\n",
       "      <td>-54832.072060</td>\n",
       "      <td>-54812.283847</td>\n",
       "      <td>-54676.441594</td>\n",
       "    </tr>\n",
       "    <tr>\n",
       "      <th>round_1_WA1_1_ACE2</th>\n",
       "      <td>28522.587629</td>\n",
       "      <td>-32369.066617</td>\n",
       "      <td>-36550.035029</td>\n",
       "      <td>28548.488857</td>\n",
       "    </tr>\n",
       "    <tr>\n",
       "      <th>round_1_WA1_1_WT</th>\n",
       "      <td>-48571.954197</td>\n",
       "      <td>-64461.895437</td>\n",
       "      <td>-65477.448326</td>\n",
       "      <td>-50332.614295</td>\n",
       "    </tr>\n",
       "    <tr>\n",
       "      <th>round_2_B.1.1.7_ACE2</th>\n",
       "      <td>5980.030978</td>\n",
       "      <td>-8310.241770</td>\n",
       "      <td>-9941.420163</td>\n",
       "      <td>6001.281735</td>\n",
       "    </tr>\n",
       "    <tr>\n",
       "      <th>round_2_B.1.351_ACE2</th>\n",
       "      <td>7896.354643</td>\n",
       "      <td>-6883.390517</td>\n",
       "      <td>-10326.998375</td>\n",
       "      <td>7826.212454</td>\n",
       "    </tr>\n",
       "    <tr>\n",
       "      <th>round_2_B.1.351_delta_ACE2</th>\n",
       "      <td>11138.070818</td>\n",
       "      <td>-2686.916659</td>\n",
       "      <td>-7467.635457</td>\n",
       "      <td>9607.095150</td>\n",
       "    </tr>\n",
       "    <tr>\n",
       "      <th>round_2_B.1.429_ACE2</th>\n",
       "      <td>5637.624163</td>\n",
       "      <td>-5443.894786</td>\n",
       "      <td>-6465.213418</td>\n",
       "      <td>5624.949191</td>\n",
       "    </tr>\n",
       "    <tr>\n",
       "      <th>round_2_Uninfected_2_ACE2</th>\n",
       "      <td>-13806.292872</td>\n",
       "      <td>-13863.350377</td>\n",
       "      <td>-13842.179266</td>\n",
       "      <td>-13785.121761</td>\n",
       "    </tr>\n",
       "    <tr>\n",
       "      <th>round_2_WA1_2_ACE2</th>\n",
       "      <td>6115.790706</td>\n",
       "      <td>-10088.444748</td>\n",
       "      <td>-12025.745099</td>\n",
       "      <td>6133.019038</td>\n",
       "    </tr>\n",
       "  </tbody>\n",
       "</table>\n",
       "</div>"
      ],
      "text/plain": [
       "                            gmm_2_infection_individual  gmm_2_infection_total  \\\n",
       "round_1_Uninfected_1_ACE2               -113193.671082         -113899.650722   \n",
       "round_1_Uninfected_1_WT                  -54611.545828          -54832.072060   \n",
       "round_1_WA1_1_ACE2                        28522.587629          -32369.066617   \n",
       "round_1_WA1_1_WT                         -48571.954197          -64461.895437   \n",
       "round_2_B.1.1.7_ACE2                       5980.030978           -8310.241770   \n",
       "round_2_B.1.351_ACE2                       7896.354643           -6883.390517   \n",
       "round_2_B.1.351_delta_ACE2                11138.070818           -2686.916659   \n",
       "round_2_B.1.429_ACE2                       5637.624163           -5443.894786   \n",
       "round_2_Uninfected_2_ACE2                -13806.292872          -13863.350377   \n",
       "round_2_WA1_2_ACE2                         6115.790706          -10088.444748   \n",
       "\n",
       "                            gmm_3_infection_individual  gmm_3_infection_total  \n",
       "round_1_Uninfected_1_ACE2               -113884.937095         -113476.575271  \n",
       "round_1_Uninfected_1_WT                  -54812.283847          -54676.441594  \n",
       "round_1_WA1_1_ACE2                       -36550.035029           28548.488857  \n",
       "round_1_WA1_1_WT                         -65477.448326          -50332.614295  \n",
       "round_2_B.1.1.7_ACE2                      -9941.420163            6001.281735  \n",
       "round_2_B.1.351_ACE2                     -10326.998375            7826.212454  \n",
       "round_2_B.1.351_delta_ACE2                -7467.635457            9607.095150  \n",
       "round_2_B.1.429_ACE2                      -6465.213418            5624.949191  \n",
       "round_2_Uninfected_2_ACE2                -13842.179266          -13785.121761  \n",
       "round_2_WA1_2_ACE2                       -12025.745099            6133.019038  "
      ]
     },
     "execution_count": 22,
     "metadata": {},
     "output_type": "execute_result"
    }
   ],
   "source": [
    "bics"
   ]
  },
  {
   "cell_type": "code",
   "execution_count": 23,
   "id": "fitting-provision",
   "metadata": {},
   "outputs": [],
   "source": [
    "best_model = bics.idxmin(axis=1)"
   ]
  },
  {
   "cell_type": "code",
   "execution_count": 24,
   "id": "framed-costs",
   "metadata": {},
   "outputs": [
    {
     "data": {
      "text/plain": [
       "round_1_Uninfected_1_ACE2          gmm_2_infection_total\n",
       "round_1_Uninfected_1_WT            gmm_2_infection_total\n",
       "round_1_WA1_1_ACE2            gmm_3_infection_individual\n",
       "round_1_WA1_1_WT              gmm_3_infection_individual\n",
       "round_2_B.1.1.7_ACE2          gmm_3_infection_individual\n",
       "round_2_B.1.351_ACE2          gmm_3_infection_individual\n",
       "round_2_B.1.351_delta_ACE2    gmm_3_infection_individual\n",
       "round_2_B.1.429_ACE2          gmm_3_infection_individual\n",
       "round_2_Uninfected_2_ACE2          gmm_2_infection_total\n",
       "round_2_WA1_2_ACE2            gmm_3_infection_individual\n",
       "dtype: object"
      ]
     },
     "execution_count": 24,
     "metadata": {},
     "output_type": "execute_result"
    }
   ],
   "source": [
    "best_model"
   ]
  },
  {
   "cell_type": "code",
   "execution_count": 25,
   "id": "primary-nancy",
   "metadata": {},
   "outputs": [],
   "source": [
    "adata.obs['gmm_infection'] = 'na'\n",
    "for batch, model in zip(best_model.index, best_model.values):\n",
    "    batch_cells = adata[adata.obs.round_variant_condition==batch].obs_names\n",
    "    adata.obs['gmm_infection'][batch_cells] =  adata.obs[model][batch_cells]"
   ]
  },
  {
   "cell_type": "code",
   "execution_count": 26,
   "id": "directed-confusion",
   "metadata": {},
   "outputs": [
    {
     "data": {
      "text/plain": [
       "AnnData object with n_obs × n_vars = 38462 × 36611\n",
       "    obs: 'infection', 'variant', 'condition', 'library_size', 'library_size_log', 'SARS2_genome_ORF1ab_counts', 'SARS2_genome_ORF1ab_log', 'SARS2_genome_S_counts', 'SARS2_genome_S_log', 'SARS2_genome_ORF3a_counts', 'SARS2_genome_ORF3a_log', 'SARS2_genome_E_counts', 'SARS2_genome_E_log', 'SARS2_genome_M_counts', 'SARS2_genome_M_log', 'SARS2_genome_ORF6_counts', 'SARS2_genome_ORF6_log', 'SARS2_genome_ORF7a_counts', 'SARS2_genome_ORF7a_log', 'SARS2_genome_ORF8_counts', 'SARS2_genome_ORF8_log', 'SARS2_genome_N_counts', 'SARS2_genome_N_log', 'SARS2_genome_ORF10_counts', 'SARS2_genome_ORF10_log', 'sars2_total_counts', 'sars2_total_counts_log', 'sars2_lib_size_ratio', 'round', 'condition_variant', 'round_variant_condition', 'n_genes_by_counts', 'total_counts', 'total_counts_mt', 'pct_counts_mt', 'gmm_3_infection_individual', 'gmm_3_infection_total', 'gmm_2_infection_individual', 'gmm_2_infection_total', 'gmm_infection'\n",
       "    var: 'mt', 'n_cells_by_counts', 'mean_counts', 'pct_dropout_by_counts', 'total_counts'\n",
       "    obsm: 'gmm_3_infection_individual_probs', 'gmm_3_infection_total_probs', 'gmm_2_infection_individual_probs', 'gmm_2_infection_total_probs'"
      ]
     },
     "execution_count": 26,
     "metadata": {},
     "output_type": "execute_result"
    }
   ],
   "source": [
    "adata"
   ]
  },
  {
   "cell_type": "code",
   "execution_count": 27,
   "id": "polyphonic-manufacturer",
   "metadata": {},
   "outputs": [
    {
     "data": {
      "image/png": "[encoded data removed]",
      "text/plain": [
       "<Figure size 432x288 with 1 Axes>"
      ]
     },
     "metadata": {
      "needs_background": "light"
     },
     "output_type": "display_data"
    }
   ],
   "source": [
    "df = adata.obs\n",
    "ax = df.groupby(['round_variant_condition', 'gmm_infection']).size().unstack(level=1).plot(kind='bar')\n"
   ]
  },
  {
   "cell_type": "code",
   "execution_count": 28,
   "id": "crazy-train",
   "metadata": {},
   "outputs": [
    {
     "data": {
      "text/html": [
       "<div>\n",
       "<style scoped>\n",
       "    .dataframe tbody tr th:only-of-type {\n",
       "        vertical-align: middle;\n",
       "    }\n",
       "\n",
       "    .dataframe tbody tr th {\n",
       "        vertical-align: top;\n",
       "    }\n",
       "\n",
       "    .dataframe thead th {\n",
       "        text-align: right;\n",
       "    }\n",
       "</style>\n",
       "<table border=\"1\" class=\"dataframe\">\n",
       "  <thead>\n",
       "    <tr style=\"text-align: right;\">\n",
       "      <th>gmm_infection</th>\n",
       "      <th>0</th>\n",
       "      <th>1</th>\n",
       "      <th>2</th>\n",
       "    </tr>\n",
       "    <tr>\n",
       "      <th>round_variant_condition</th>\n",
       "      <th></th>\n",
       "      <th></th>\n",
       "      <th></th>\n",
       "    </tr>\n",
       "  </thead>\n",
       "  <tbody>\n",
       "    <tr>\n",
       "      <th>round_1_Uninfected_1_ACE2</th>\n",
       "      <td>9519</td>\n",
       "      <td>0</td>\n",
       "      <td>0</td>\n",
       "    </tr>\n",
       "    <tr>\n",
       "      <th>round_1_Uninfected_1_WT</th>\n",
       "      <td>4584</td>\n",
       "      <td>0</td>\n",
       "      <td>0</td>\n",
       "    </tr>\n",
       "    <tr>\n",
       "      <th>round_1_WA1_1_ACE2</th>\n",
       "      <td>5813</td>\n",
       "      <td>1505</td>\n",
       "      <td>647</td>\n",
       "    </tr>\n",
       "    <tr>\n",
       "      <th>round_1_WA1_1_WT</th>\n",
       "      <td>5702</td>\n",
       "      <td>2</td>\n",
       "      <td>75</td>\n",
       "    </tr>\n",
       "    <tr>\n",
       "      <th>round_2_B.1.1.7_ACE2</th>\n",
       "      <td>1434</td>\n",
       "      <td>37</td>\n",
       "      <td>217</td>\n",
       "    </tr>\n",
       "    <tr>\n",
       "      <th>round_2_B.1.351_ACE2</th>\n",
       "      <td>1749</td>\n",
       "      <td>79</td>\n",
       "      <td>304</td>\n",
       "    </tr>\n",
       "    <tr>\n",
       "      <th>round_2_B.1.351_delta_ACE2</th>\n",
       "      <td>1198</td>\n",
       "      <td>487</td>\n",
       "      <td>594</td>\n",
       "    </tr>\n",
       "    <tr>\n",
       "      <th>round_2_B.1.429_ACE2</th>\n",
       "      <td>1111</td>\n",
       "      <td>142</td>\n",
       "      <td>158</td>\n",
       "    </tr>\n",
       "    <tr>\n",
       "      <th>round_2_Uninfected_2_ACE2</th>\n",
       "      <td>1161</td>\n",
       "      <td>0</td>\n",
       "      <td>0</td>\n",
       "    </tr>\n",
       "    <tr>\n",
       "      <th>round_2_WA1_2_ACE2</th>\n",
       "      <td>1704</td>\n",
       "      <td>86</td>\n",
       "      <td>154</td>\n",
       "    </tr>\n",
       "  </tbody>\n",
       "</table>\n",
       "</div>"
      ],
      "text/plain": [
       "gmm_infection                  0     1    2\n",
       "round_variant_condition                    \n",
       "round_1_Uninfected_1_ACE2   9519     0    0\n",
       "round_1_Uninfected_1_WT     4584     0    0\n",
       "round_1_WA1_1_ACE2          5813  1505  647\n",
       "round_1_WA1_1_WT            5702     2   75\n",
       "round_2_B.1.1.7_ACE2        1434    37  217\n",
       "round_2_B.1.351_ACE2        1749    79  304\n",
       "round_2_B.1.351_delta_ACE2  1198   487  594\n",
       "round_2_B.1.429_ACE2        1111   142  158\n",
       "round_2_Uninfected_2_ACE2   1161     0    0\n",
       "round_2_WA1_2_ACE2          1704    86  154"
      ]
     },
     "execution_count": 28,
     "metadata": {},
     "output_type": "execute_result"
    }
   ],
   "source": [
    "\n",
    "df.groupby(['round_variant_condition', 'gmm_infection']).size().unstack(level=1)\n"
   ]
  },
  {
   "cell_type": "code",
   "execution_count": 29,
   "id": "alien-matthew",
   "metadata": {},
   "outputs": [],
   "source": [
    "infection_df = adata.obs.groupby(['round_variant_condition', 'gmm_infection']).size().unstack(level=1)"
   ]
  },
  {
   "cell_type": "code",
   "execution_count": 30,
   "id": "blind-buffer",
   "metadata": {},
   "outputs": [
    {
     "data": {
      "text/plain": [
       "<matplotlib.legend.Legend at 0x7fa0e873ec40>"
      ]
     },
     "execution_count": 30,
     "metadata": {},
     "output_type": "execute_result"
    },
    {
     "data": {
      "image/png": "[encoded data removed]",
      "text/plain": [
       "<Figure size 432x288 with 1 Axes>"
      ]
     },
     "metadata": {
      "needs_background": "light"
     },
     "output_type": "display_data"
    }
   ],
   "source": [
    "ax = infection_df.divide(infection_df.sum(axis=1), axis=0).plot(kind='bar')\n",
    "ax.legend(bbox_to_anchor=(1.05, 1), loc='upper left')"
   ]
  },
  {
   "cell_type": "code",
   "execution_count": 33,
   "id": "removed-version",
   "metadata": {},
   "outputs": [],
   "source": [
    "\n",
    "keys = list(adata.obsm.keys())\n",
    "for key in keys:\n",
    "    if key.endswith('_probs'):\n",
    "        del adata.obsm[key]"
   ]
  },
  {
   "cell_type": "code",
   "execution_count": 34,
   "id": "annoying-rhythm",
   "metadata": {},
   "outputs": [
    {
     "data": {
      "text/plain": [
       "AnnData object with n_obs × n_vars = 38462 × 36611\n",
       "    obs: 'infection', 'variant', 'condition', 'library_size', 'library_size_log', 'SARS2_genome_ORF1ab_counts', 'SARS2_genome_ORF1ab_log', 'SARS2_genome_S_counts', 'SARS2_genome_S_log', 'SARS2_genome_ORF3a_counts', 'SARS2_genome_ORF3a_log', 'SARS2_genome_E_counts', 'SARS2_genome_E_log', 'SARS2_genome_M_counts', 'SARS2_genome_M_log', 'SARS2_genome_ORF6_counts', 'SARS2_genome_ORF6_log', 'SARS2_genome_ORF7a_counts', 'SARS2_genome_ORF7a_log', 'SARS2_genome_ORF8_counts', 'SARS2_genome_ORF8_log', 'SARS2_genome_N_counts', 'SARS2_genome_N_log', 'SARS2_genome_ORF10_counts', 'SARS2_genome_ORF10_log', 'sars2_total_counts', 'sars2_total_counts_log', 'sars2_lib_size_ratio', 'round', 'condition_variant', 'round_variant_condition', 'n_genes_by_counts', 'total_counts', 'total_counts_mt', 'pct_counts_mt', 'gmm_3_infection_individual', 'gmm_3_infection_total', 'gmm_2_infection_individual', 'gmm_2_infection_total', 'gmm_infection'\n",
       "    var: 'mt', 'n_cells_by_counts', 'mean_counts', 'pct_dropout_by_counts', 'total_counts'"
      ]
     },
     "execution_count": 34,
     "metadata": {},
     "output_type": "execute_result"
    }
   ],
   "source": [
    "adata"
   ]
  },
  {
   "cell_type": "code",
   "execution_count": 35,
   "id": "parental-subscriber",
   "metadata": {},
   "outputs": [],
   "source": [
    "adata.obs['infection_gmm'] = adata.obs['infection'].astype(str) + '_' + adata.obs['gmm_infection'].astype(str)\n",
    "\n",
    "adata.obs['infection_gmm'].value_counts()\n",
    "adata.obs['infection_gmm_annotated'] = adata.obs['infection_gmm'].replace({'U_0':'Uninfected',\n",
    "                                    'I_0':\"No Infection\",\n",
    "                                    'I_1': \"Low Infection\",\n",
    "                                    'I_2': 'High Infection'\n",
    "                                   })\n"
   ]
  },
  {
   "cell_type": "code",
   "execution_count": 36,
   "id": "boxed-local",
   "metadata": {},
   "outputs": [
    {
     "name": "stderr",
     "output_type": "stream",
     "text": [
      "... storing 'gmm_3_infection_individual' as categorical\n",
      "... storing 'gmm_3_infection_total' as categorical\n",
      "... storing 'gmm_2_infection_individual' as categorical\n",
      "... storing 'gmm_2_infection_total' as categorical\n",
      "... storing 'gmm_infection' as categorical\n",
      "... storing 'infection_gmm' as categorical\n",
      "... storing 'infection_gmm_annotated' as categorical\n"
     ]
    }
   ],
   "source": [
    "adata.write(adata_fn)"
   ]
  },
  {
   "cell_type": "code",
   "execution_count": 37,
   "id": "combined-wound",
   "metadata": {},
   "outputs": [],
   "source": [
    "adata[adata.obs['round']=='round_1'].write('round1_processed.h5ad')"
   ]
  },
  {
   "cell_type": "code",
   "execution_count": 38,
   "id": "alert-simple",
   "metadata": {},
   "outputs": [],
   "source": [
    "adata[adata.obs['round']=='round_2'].write('round2_processed.h5ad')"
   ]
  },
  {
   "cell_type": "code",
   "execution_count": null,
   "id": "engaging-waste",
   "metadata": {},
   "outputs": [],
   "source": []
  }
 ],
 "metadata": {
  "kernelspec": {
   "display_name": "Python 3.8.3 64-bit ('scvi-dev': venv)",
   "language": "python",
   "name": "python38364bitscvidevvenv4fb90fe562ab4b5189ac0b527fd52a97"
  },
  "language_info": {
   "codemirror_mode": {
    "name": "ipython",
    "version": 3
   },
   "file_extension": ".py",
   "mimetype": "text/x-python",
   "name": "python",
   "nbconvert_exporter": "python",
   "pygments_lexer": "ipython3",
   "version": "3.8.3"
  }
 },
 "nbformat": 4,
 "nbformat_minor": 5
}
