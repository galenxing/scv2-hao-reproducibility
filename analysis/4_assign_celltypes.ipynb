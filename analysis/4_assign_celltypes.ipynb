{
 "cells": [
  {
   "cell_type": "code",
   "execution_count": 43,
   "id": "marked-lobby",
   "metadata": {},
   "outputs": [],
   "source": [
    "import anndata\n",
    "from sklearn.neighbors import KNeighborsClassifier"
   ]
  },
  {
   "cell_type": "code",
   "execution_count": 44,
   "id": "conditional-electron",
   "metadata": {},
   "outputs": [],
   "source": [
    "adata = anndata.read('round1round2_processed.h5ad')"
   ]
  },
  {
   "cell_type": "code",
   "execution_count": 45,
   "id": "operating-conviction",
   "metadata": {},
   "outputs": [],
   "source": [
    "adata.obs['manual_ct_annotation'] = adata.obs['ts_consensus_prediction'].astype('str')\n"
   ]
  },
  {
   "cell_type": "code",
   "execution_count": 46,
   "id": "perfect-ferry",
   "metadata": {},
   "outputs": [
    {
     "name": "stderr",
     "output_type": "stream",
     "text": [
      "<ipython-input-46-b3a5d5239c00>:1: SettingWithCopyWarning: \n",
      "A value is trying to be set on a copy of a slice from a DataFrame\n",
      "\n",
      "See the caveats in the documentation: https://pandas.pydata.org/pandas-docs/stable/user_guide/indexing.html#returning-a-view-versus-a-copy\n",
      "  adata.obs['manual_ct_annotation'][~adata.obs['manual_ct_annotation'].isin(['respiratory goblet cell', 'basal cell', 'lung ciliated cell'])] = 'unknown'\n"
     ]
    }
   ],
   "source": [
    "adata.obs['manual_ct_annotation'][~adata.obs['manual_ct_annotation'].isin(['respiratory goblet cell', 'basal cell', 'lung ciliated cell'])] = 'unknown'\n",
    "\n"
   ]
  },
  {
   "cell_type": "code",
   "execution_count": 47,
   "id": "julian-ballet",
   "metadata": {},
   "outputs": [
    {
     "data": {
      "text/plain": [
       "basal cell                 32500\n",
       "respiratory goblet cell     4495\n",
       "unknown                     1447\n",
       "lung ciliated cell            20\n",
       "Name: manual_ct_annotation, dtype: int64"
      ]
     },
     "execution_count": 47,
     "metadata": {},
     "output_type": "execute_result"
    }
   ],
   "source": [
    "adata.obs['manual_ct_annotation'].value_counts()"
   ]
  },
  {
   "cell_type": "code",
   "execution_count": 48,
   "id": "computational-hearts",
   "metadata": {},
   "outputs": [],
   "source": [
    "round1 = adata[adata.obs['round']=='round_1'].copy()\n",
    "round2 = adata[adata.obs['round']=='round_2'].copy()\n",
    "\n"
   ]
  },
  {
   "cell_type": "markdown",
   "id": "special-rental",
   "metadata": {},
   "source": [
    "# Classifying Unknown Round 1 Cells"
   ]
  },
  {
   "cell_type": "code",
   "execution_count": 49,
   "id": "accessible-albany",
   "metadata": {},
   "outputs": [],
   "source": [
    "\n",
    "knn = KNeighborsClassifier(n_neighbors=5)\n"
   ]
  },
  {
   "cell_type": "code",
   "execution_count": 50,
   "id": "palestinian-recorder",
   "metadata": {},
   "outputs": [],
   "source": [
    "\n",
    "train_adata = round1[round1.obs['manual_ct_annotation']!='unknown'].copy()\n",
    "trainX = train_adata.obsm['X_scVI']\n",
    "trainY = train_adata.obs['manual_ct_annotation'].values\n",
    "\n"
   ]
  },
  {
   "cell_type": "code",
   "execution_count": 51,
   "id": "environmental-enough",
   "metadata": {},
   "outputs": [
    {
     "data": {
      "text/plain": [
       "KNeighborsClassifier()"
      ]
     },
     "execution_count": 51,
     "metadata": {},
     "output_type": "execute_result"
    }
   ],
   "source": [
    "knn.fit(trainX, trainY)"
   ]
  },
  {
   "cell_type": "code",
   "execution_count": 52,
   "id": "vietnamese-illinois",
   "metadata": {},
   "outputs": [],
   "source": [
    "r1_unknown = round1[round1.obs['manual_ct_annotation']=='unknown']\n",
    "r1_unknown_obs_names = r1_unknown.obs_names\n",
    "\n",
    "testX = r1_unknown.obsm['X_scVI']\n",
    "\n"
   ]
  },
  {
   "cell_type": "code",
   "execution_count": 53,
   "id": "indian-genome",
   "metadata": {},
   "outputs": [],
   "source": [
    "unknown_ct_pred = knn.predict(testX)"
   ]
  },
  {
   "cell_type": "code",
   "execution_count": 54,
   "id": "commercial-prime",
   "metadata": {},
   "outputs": [
    {
     "name": "stderr",
     "output_type": "stream",
     "text": [
      "<ipython-input-54-0987654a4910>:1: SettingWithCopyWarning: \n",
      "A value is trying to be set on a copy of a slice from a DataFrame\n",
      "\n",
      "See the caveats in the documentation: https://pandas.pydata.org/pandas-docs/stable/user_guide/indexing.html#returning-a-view-versus-a-copy\n",
      "  adata.obs['manual_ct_annotation'][r1_unknown_obs_names] = unknown_ct_pred\n",
      "/home/galen/.pyenv/versions/scvi-dev/lib/python3.8/site-packages/pandas/core/indexing.py:1637: SettingWithCopyWarning: \n",
      "A value is trying to be set on a copy of a slice from a DataFrame\n",
      "\n",
      "See the caveats in the documentation: https://pandas.pydata.org/pandas-docs/stable/user_guide/indexing.html#returning-a-view-versus-a-copy\n",
      "  self._setitem_single_block(indexer, value, name)\n"
     ]
    }
   ],
   "source": [
    "\n",
    "adata.obs['manual_ct_annotation'][r1_unknown_obs_names] = unknown_ct_pred\n",
    "\n"
   ]
  },
  {
   "cell_type": "markdown",
   "id": "primary-handle",
   "metadata": {},
   "source": [
    "# Classifying Unknown Round 2 Cells"
   ]
  },
  {
   "cell_type": "code",
   "execution_count": 55,
   "id": "least-tutorial",
   "metadata": {},
   "outputs": [],
   "source": [
    "\n",
    "knn = KNeighborsClassifier(n_neighbors=5)\n"
   ]
  },
  {
   "cell_type": "code",
   "execution_count": 56,
   "id": "acceptable-player",
   "metadata": {},
   "outputs": [],
   "source": [
    "\n",
    "\n",
    "train_adata = round2[round2.obs['manual_ct_annotation']!='unknown'].copy()\n",
    "trainX = train_adata.obsm['X_scVI']\n",
    "trainY = train_adata.obs['manual_ct_annotation'].values\n",
    "\n"
   ]
  },
  {
   "cell_type": "code",
   "execution_count": 57,
   "id": "defined-silence",
   "metadata": {},
   "outputs": [
    {
     "data": {
      "text/plain": [
       "KNeighborsClassifier()"
      ]
     },
     "execution_count": 57,
     "metadata": {},
     "output_type": "execute_result"
    }
   ],
   "source": [
    "knn.fit(trainX, trainY)"
   ]
  },
  {
   "cell_type": "code",
   "execution_count": 58,
   "id": "opposed-advertising",
   "metadata": {},
   "outputs": [],
   "source": [
    "r2_unknown = round2[round2.obs['manual_ct_annotation']=='unknown']\n",
    "r2_unknown_obs_names = r2_unknown.obs_names\n",
    "\n",
    "testX = r2_unknown.obsm['X_scVI']\n",
    "\n"
   ]
  },
  {
   "cell_type": "code",
   "execution_count": 59,
   "id": "automatic-cruise",
   "metadata": {},
   "outputs": [],
   "source": [
    "unknown_ct_pred = knn.predict(testX)"
   ]
  },
  {
   "cell_type": "code",
   "execution_count": 63,
   "id": "compressed-spyware",
   "metadata": {},
   "outputs": [],
   "source": [
    "\n",
    "adata.obs['manual_ct_annotation'][r2_unknown_obs_names] = unknown_ct_pred\n",
    "\n"
   ]
  },
  {
   "cell_type": "code",
   "execution_count": 64,
   "id": "defensive-evans",
   "metadata": {},
   "outputs": [
    {
     "data": {
      "text/plain": [
       "basal cell                 33846\n",
       "respiratory goblet cell     4596\n",
       "lung ciliated cell            20\n",
       "unknown                        0\n",
       "Name: manual_ct_annotation, dtype: int64"
      ]
     },
     "execution_count": 64,
     "metadata": {},
     "output_type": "execute_result"
    }
   ],
   "source": [
    "adata.obs['manual_ct_annotation'].value_counts()"
   ]
  },
  {
   "cell_type": "code",
   "execution_count": 65,
   "id": "elect-validity",
   "metadata": {},
   "outputs": [],
   "source": [
    "adata.write('round1round2_processed.h5ad')"
   ]
  },
  {
   "cell_type": "code",
   "execution_count": 66,
   "id": "numerical-medicaid",
   "metadata": {},
   "outputs": [],
   "source": [
    "round1 = adata[adata.obs['round']=='round_1'].copy()\n",
    "round2 = adata[adata.obs['round']=='round_2'].copy()\n",
    "round1.write('round1_processed.h5ad')\n",
    "round2.write('round2_processed.h5ad')"
   ]
  },
  {
   "cell_type": "code",
   "execution_count": null,
   "id": "enabling-silicon",
   "metadata": {},
   "outputs": [],
   "source": []
  }
 ],
 "metadata": {
  "kernelspec": {
   "display_name": "Python 3.8.3 64-bit ('scvi-dev': venv)",
   "language": "python",
   "name": "python38364bitscvidevvenv4fb90fe562ab4b5189ac0b527fd52a97"
  },
  "language_info": {
   "codemirror_mode": {
    "name": "ipython",
    "version": 3
   },
   "file_extension": ".py",
   "mimetype": "text/x-python",
   "name": "python",
   "nbconvert_exporter": "python",
   "pygments_lexer": "ipython3",
   "version": "3.8.3"
  }
 },
 "nbformat": 4,
 "nbformat_minor": 5
}
