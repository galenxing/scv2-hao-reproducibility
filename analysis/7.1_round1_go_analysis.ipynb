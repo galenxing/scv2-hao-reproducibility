{
 "cells": [
  {
   "cell_type": "code",
   "execution_count": 32,
   "id": "isolated-mixer",
   "metadata": {},
   "outputs": [],
   "source": [
    "\n",
    "import anndata\n",
    "import pandas as pd\n",
    "import numpy as np\n",
    "import scanpy as sc\n"
   ]
  },
  {
   "cell_type": "code",
   "execution_count": 33,
   "id": "governmental-remove",
   "metadata": {},
   "outputs": [
    {
     "data": {
      "text/plain": [
       "'1.9.1'"
      ]
     },
     "execution_count": 33,
     "metadata": {},
     "output_type": "execute_result"
    }
   ],
   "source": [
    "sc.__version__"
   ]
  },
  {
   "cell_type": "markdown",
   "id": "revolutionary-flooring",
   "metadata": {},
   "source": [
    "# Filter out scv2 genes and mt genes"
   ]
  },
  {
   "cell_type": "code",
   "execution_count": 34,
   "id": "complicated-pathology",
   "metadata": {},
   "outputs": [],
   "source": [
    "\n",
    "adata = anndata.read('round1_processed.h5ad')\n"
   ]
  },
  {
   "cell_type": "code",
   "execution_count": 35,
   "id": "answering-remove",
   "metadata": {},
   "outputs": [
    {
     "data": {
      "text/plain": [
       "matrix([[  0.,   0.,   0., ...,   0.,   1.,   1.],\n",
       "        [  0.,   0.,   0., ...,   1.,   4.,   0.],\n",
       "        [  0.,   0.,   0., ...,   1.,   1.,   1.],\n",
       "        ...,\n",
       "        [  0.,   0.,   0., ...,   0.,   2.,   1.],\n",
       "        [  0.,   0.,   0., ...,   0.,   2.,   0.],\n",
       "        [  0.,   0.,   0., ...,   1., 112., 118.]], dtype=float32)"
      ]
     },
     "execution_count": 35,
     "metadata": {},
     "output_type": "execute_result"
    }
   ],
   "source": [
    "# confirm its raw counts\n",
    "adata.X[:10].todense()"
   ]
  },
  {
   "cell_type": "code",
   "execution_count": 36,
   "id": "prime-samoa",
   "metadata": {},
   "outputs": [],
   "source": [
    "# filter out scv2 genes\n",
    "adata.var['is_sars2_gene'] = [True if v.startswith('SARS2_') else False for v in adata.var_names]\n",
    "adata = adata[:, adata.var['is_sars2_gene']==False].copy()\n"
   ]
  },
  {
   "cell_type": "code",
   "execution_count": 37,
   "id": "scheduled-capital",
   "metadata": {},
   "outputs": [],
   "source": [
    "# filter out mitochondrial genes\n",
    "adata = adata[:,adata.var['mt']==False].copy()\n"
   ]
  },
  {
   "cell_type": "markdown",
   "id": "deadly-scott",
   "metadata": {},
   "source": [
    "## Round1 ACE2: Top GO terms of infection condition vs uninfected condition for ACE2\n"
   ]
  },
  {
   "cell_type": "code",
   "execution_count": 38,
   "id": "urban-celebrity",
   "metadata": {},
   "outputs": [],
   "source": [
    "\n",
    "ace2 = adata[adata.obs['condition']=='ACE2'].copy()\n"
   ]
  },
  {
   "cell_type": "code",
   "execution_count": 39,
   "id": "residential-folks",
   "metadata": {},
   "outputs": [
    {
     "data": {
      "text/plain": [
       "AnnData object with n_obs × n_vars = 17484 × 36588\n",
       "    obs: 'infection', 'variant', 'condition', 'library_size', 'library_size_log', 'SARS2_genome_ORF1ab_counts', 'SARS2_genome_ORF1ab_log', 'SARS2_genome_S_counts', 'SARS2_genome_S_log', 'SARS2_genome_ORF3a_counts', 'SARS2_genome_ORF3a_log', 'SARS2_genome_E_counts', 'SARS2_genome_E_log', 'SARS2_genome_M_counts', 'SARS2_genome_M_log', 'SARS2_genome_ORF6_counts', 'SARS2_genome_ORF6_log', 'SARS2_genome_ORF7a_counts', 'SARS2_genome_ORF7a_log', 'SARS2_genome_ORF8_counts', 'SARS2_genome_ORF8_log', 'SARS2_genome_N_counts', 'SARS2_genome_N_log', 'SARS2_genome_ORF10_counts', 'SARS2_genome_ORF10_log', 'sars2_total_counts', 'sars2_total_counts_log', 'sars2_lib_size_ratio', 'round', 'condition_variant', 'round_variant_condition', 'n_genes_by_counts', 'total_counts', 'total_counts_mt', 'pct_counts_mt', 'ts_consensus_prediction', 'ts_consensus_percentage', 'knn_on_bbknn_pred', 'knn_on_scvi_offline_pred', 'scanvi_offline_pred', 'svm_pred', 'rf_pred', 'onclass_pred', 'knn_on_scanorama_pred', '_scvi_batch', '_scvi_labels', 'infection_condition', 'gmm_3_infection_individual', 'gmm_3_infection_total', 'gmm_2_infection_individual', 'gmm_2_infection_total', 'gmm_infection', 'infection_gmm', 'infection_gmm_annotated', 'manual_ct_annotation', 'vision_clusters', 'vision_clusters_old', 'r1_vision_clusters_annotated_1', 'r1_vision_clusters_annotated_2', 'r2_vision_clusters_annotated', 'infection_str', 'gmm_infection_annotated', 'condition_manual_ct_annotation'\n",
       "    var: 'mt', 'n_cells_by_counts', 'mean_counts', 'pct_dropout_by_counts', 'total_counts', 'is_sars2_gene'\n",
       "    uns: '_scvi', 'hvg', 'infection_colors', 'neighbors', 'round_colors', 'umap', 'variant_colors'\n",
       "    obsm: 'X_scVI', 'X_umap'\n",
       "    obsp: 'connectivities', 'distances'"
      ]
     },
     "execution_count": 39,
     "metadata": {},
     "output_type": "execute_result"
    }
   ],
   "source": [
    "ace2"
   ]
  },
  {
   "cell_type": "code",
   "execution_count": 40,
   "id": "biblical-owner",
   "metadata": {},
   "outputs": [
    {
     "data": {
      "text/plain": [
       "Uninfected        9519\n",
       "No Infection      5835\n",
       "Low Infection     1486\n",
       "High Infection     644\n",
       "Name: infection_gmm_annotated, dtype: int64"
      ]
     },
     "execution_count": 40,
     "metadata": {},
     "output_type": "execute_result"
    }
   ],
   "source": [
    "\n",
    "ace2.obs['infection_gmm_annotated'].value_counts()\n"
   ]
  },
  {
   "cell_type": "code",
   "execution_count": 41,
   "id": "stuck-ranch",
   "metadata": {},
   "outputs": [],
   "source": [
    "\n",
    "sc.pp.normalize_total(ace2, target_sum=1e4)\n",
    "sc.pp.log1p(ace2)\n",
    "sc.pp.scale(ace2, max_value=10)\n",
    "\n"
   ]
  },
  {
   "cell_type": "code",
   "execution_count": 42,
   "id": "sorted-balloon",
   "metadata": {},
   "outputs": [
    {
     "data": {
      "text/plain": [
       "AnnData object with n_obs × n_vars = 17484 × 36588\n",
       "    obs: 'infection', 'variant', 'condition', 'library_size', 'library_size_log', 'SARS2_genome_ORF1ab_counts', 'SARS2_genome_ORF1ab_log', 'SARS2_genome_S_counts', 'SARS2_genome_S_log', 'SARS2_genome_ORF3a_counts', 'SARS2_genome_ORF3a_log', 'SARS2_genome_E_counts', 'SARS2_genome_E_log', 'SARS2_genome_M_counts', 'SARS2_genome_M_log', 'SARS2_genome_ORF6_counts', 'SARS2_genome_ORF6_log', 'SARS2_genome_ORF7a_counts', 'SARS2_genome_ORF7a_log', 'SARS2_genome_ORF8_counts', 'SARS2_genome_ORF8_log', 'SARS2_genome_N_counts', 'SARS2_genome_N_log', 'SARS2_genome_ORF10_counts', 'SARS2_genome_ORF10_log', 'sars2_total_counts', 'sars2_total_counts_log', 'sars2_lib_size_ratio', 'round', 'condition_variant', 'round_variant_condition', 'n_genes_by_counts', 'total_counts', 'total_counts_mt', 'pct_counts_mt', 'ts_consensus_prediction', 'ts_consensus_percentage', 'knn_on_bbknn_pred', 'knn_on_scvi_offline_pred', 'scanvi_offline_pred', 'svm_pred', 'rf_pred', 'onclass_pred', 'knn_on_scanorama_pred', '_scvi_batch', '_scvi_labels', 'infection_condition', 'gmm_3_infection_individual', 'gmm_3_infection_total', 'gmm_2_infection_individual', 'gmm_2_infection_total', 'gmm_infection', 'infection_gmm', 'infection_gmm_annotated', 'manual_ct_annotation', 'vision_clusters', 'vision_clusters_old', 'r1_vision_clusters_annotated_1', 'r1_vision_clusters_annotated_2', 'r2_vision_clusters_annotated', 'infection_str', 'gmm_infection_annotated', 'condition_manual_ct_annotation'\n",
       "    var: 'mt', 'n_cells_by_counts', 'mean_counts', 'pct_dropout_by_counts', 'total_counts', 'is_sars2_gene', 'mean', 'std'\n",
       "    uns: '_scvi', 'hvg', 'infection_colors', 'neighbors', 'round_colors', 'umap', 'variant_colors', 'log1p'\n",
       "    obsm: 'X_scVI', 'X_umap'\n",
       "    obsp: 'connectivities', 'distances'"
      ]
     },
     "execution_count": 42,
     "metadata": {},
     "output_type": "execute_result"
    }
   ],
   "source": [
    "\n",
    "ace2\n"
   ]
  },
  {
   "cell_type": "code",
   "execution_count": 43,
   "id": "canadian-expense",
   "metadata": {},
   "outputs": [
    {
     "data": {
      "text/plain": [
       "U    9519\n",
       "I    7965\n",
       "Name: infection, dtype: int64"
      ]
     },
     "execution_count": 43,
     "metadata": {},
     "output_type": "execute_result"
    }
   ],
   "source": [
    "ace2.obs['infection'].value_counts()"
   ]
  },
  {
   "cell_type": "code",
   "execution_count": 44,
   "id": "weighted-snake",
   "metadata": {},
   "outputs": [
    {
     "name": "stderr",
     "output_type": "stream",
     "text": [
      "/home/galen/.pyenv/versions/scvi-dev/lib/python3.8/site-packages/scanpy/tools/_rank_genes_groups.py:420: RuntimeWarning: invalid value encountered in log2\n",
      "  self.stats[group_name, 'logfoldchanges'] = np.log2(\n"
     ]
    },
    {
     "data": {
      "image/png": "[encoded data removed]",
      "text/plain": [
       "<Figure size 432x288 with 1 Axes>"
      ]
     },
     "metadata": {
      "needs_background": "light"
     },
     "output_type": "display_data"
    }
   ],
   "source": [
    "# use this intersection with the IFNs and ISGs from go terms\n",
    "\n",
    "sc.tl.rank_genes_groups(ace2, 'infection', method='t-test', groups=['I'], reference = 'U')\n",
    "sc.pl.rank_genes_groups(ace2, n_genes=25, sharey=False)"
   ]
  },
  {
   "cell_type": "code",
   "execution_count": 45,
   "id": "altered-furniture",
   "metadata": {},
   "outputs": [],
   "source": [
    "result = ace2.uns['rank_genes_groups']\n",
    "groups = result['names'].dtype.names\n",
    "df = pd.DataFrame(\n",
    "    {group + '_' + key[:1]: result[key][group]\n",
    "    for group in groups for key in ['names', 'pvals']})"
   ]
  },
  {
   "cell_type": "code",
   "execution_count": 46,
   "id": "ongoing-strain",
   "metadata": {},
   "outputs": [
    {
     "data": {
      "text/plain": [
       "array(['ISG15', 'MX1', 'IFI27', 'IFIT1', 'IFI6', 'IFIT3', 'IFITM3',\n",
       "       'OAS1', 'IFI44L', 'MX2', 'STAT1', 'IRF7', 'UBE2L6', 'IFI44',\n",
       "       'XAF1', 'EIF2AK2', 'IFI35', 'OAS3', 'EPSTI1', 'SAMD9', 'DDX58',\n",
       "       'IFITM1', 'OAS2', 'PARP14', 'IFIT2', 'RSAD2', 'PLSCR1', 'BST2',\n",
       "       'TNFSF10', 'LY6E', 'PARP9', 'ISG20', 'SP110', 'OASL', 'USP18',\n",
       "       'RNF213', 'SP100', 'DDX60', 'IFIH1', 'HELZ2', 'DDX60L', 'IER2',\n",
       "       'SAMHD1', 'HLA-B', 'SHFL', 'LAP3', 'PSMB9', 'TYMP', 'CMPK2',\n",
       "       'SAMD9L', 'RTP4', 'NT5C3A', 'HERC5', 'WARS', 'PSMB8', 'STAT2',\n",
       "       'PML', 'ZNFX1', 'PNPT1', 'ETV7', 'IRF1', 'ADAR', 'PPM1K', 'HLA-C',\n",
       "       'HERC6', 'SCO2', 'GBP1', 'IRF9', 'RBCK1', 'TAP1', 'TRIM25',\n",
       "       'IFITM2', 'DTX3L', 'JUN', 'TRIM22', 'PARP12', 'LGALS9', 'IFI16',\n",
       "       'GBP4', 'TRIM14', 'NMI', 'HSH2D', 'PSME2', 'DNAJA1', 'LGALS3BP',\n",
       "       'UNC93B1', 'TRIM38', 'APOL6', 'PHF11', 'LAMP3', 'NUB1', 'TNFSF13B',\n",
       "       'KRT6B', 'N4BP1', 'SLC25A28', 'IFIT5', 'NAPA', 'PMAIP1', 'CXCL10',\n",
       "       'S100A16'], dtype=object)"
      ]
     },
     "execution_count": 46,
     "metadata": {},
     "output_type": "execute_result"
    }
   ],
   "source": [
    "# these are the genes used for Go Enrichment\n",
    "df['I_n'][:100].values\n"
   ]
  },
  {
   "cell_type": "code",
   "execution_count": null,
   "id": "allied-metadata",
   "metadata": {},
   "outputs": [],
   "source": []
  },
  {
   "cell_type": "code",
   "execution_count": null,
   "id": "connected-analysis",
   "metadata": {},
   "outputs": [],
   "source": []
  },
  {
   "cell_type": "code",
   "execution_count": null,
   "id": "strategic-innocent",
   "metadata": {},
   "outputs": [],
   "source": []
  },
  {
   "cell_type": "code",
   "execution_count": 14,
   "id": "collaborative-innocent",
   "metadata": {},
   "outputs": [
    {
     "name": "stderr",
     "output_type": "stream",
     "text": [
      "/home/galen/.pyenv/versions/scvi-dev/lib/python3.8/site-packages/scanpy/tools/_rank_genes_groups.py:420: RuntimeWarning: invalid value encountered in log2\n",
      "  self.stats[group_name, 'logfoldchanges'] = np.log2(\n"
     ]
    },
    {
     "data": {
      "image/png": "[encoded data removed]",
      "text/plain": [
       "<Figure size 864x288 with 2 Axes>"
      ]
     },
     "metadata": {
      "needs_background": "light"
     },
     "output_type": "display_data"
    }
   ],
   "source": [
    "sc.tl.rank_genes_groups(ace2,\n",
    "                        'infection_gmm_annotated', \n",
    "                        method='t-test',\n",
    "                        groups=['High Infection', 'Low Infection'], \n",
    "                        reference = 'Uninfected')\n",
    "\n",
    "sc.pl.rank_genes_groups(ace2, n_genes=25, sharey=False)"
   ]
  },
  {
   "cell_type": "code",
   "execution_count": 15,
   "id": "fewer-survival",
   "metadata": {},
   "outputs": [
    {
     "data": {
      "text/plain": [
       "AnnData object with n_obs × n_vars = 17484 × 36588\n",
       "    obs: 'infection', 'variant', 'condition', 'library_size', 'library_size_log', 'SARS2_genome_ORF1ab_counts', 'SARS2_genome_ORF1ab_log', 'SARS2_genome_S_counts', 'SARS2_genome_S_log', 'SARS2_genome_ORF3a_counts', 'SARS2_genome_ORF3a_log', 'SARS2_genome_E_counts', 'SARS2_genome_E_log', 'SARS2_genome_M_counts', 'SARS2_genome_M_log', 'SARS2_genome_ORF6_counts', 'SARS2_genome_ORF6_log', 'SARS2_genome_ORF7a_counts', 'SARS2_genome_ORF7a_log', 'SARS2_genome_ORF8_counts', 'SARS2_genome_ORF8_log', 'SARS2_genome_N_counts', 'SARS2_genome_N_log', 'SARS2_genome_ORF10_counts', 'SARS2_genome_ORF10_log', 'sars2_total_counts', 'sars2_total_counts_log', 'sars2_lib_size_ratio', 'round', 'condition_variant', 'round_variant_condition', 'n_genes_by_counts', 'total_counts', 'total_counts_mt', 'pct_counts_mt', 'ts_consensus_prediction', 'ts_consensus_percentage', 'knn_on_bbknn_pred', 'knn_on_scvi_offline_pred', 'scanvi_offline_pred', 'svm_pred', 'rf_pred', 'onclass_pred', 'knn_on_scanorama_pred', '_scvi_batch', '_scvi_labels', 'infection_condition', 'gmm_3_infection_individual', 'gmm_3_infection_total', 'gmm_2_infection_individual', 'gmm_2_infection_total', 'gmm_infection', 'infection_gmm', 'infection_gmm_annotated', 'manual_ct_annotation', 'vision_clusters', 'vision_clusters_old', 'r1_vision_clusters_annotated_1', 'r1_vision_clusters_annotated_2', 'r2_vision_clusters_annotated', 'infection_str', 'gmm_infection_annotated', 'condition_manual_ct_annotation'\n",
       "    var: 'mt', 'n_cells_by_counts', 'mean_counts', 'pct_dropout_by_counts', 'total_counts', 'is_sars2_gene', 'mean', 'std'\n",
       "    uns: '_scvi', 'hvg', 'infection_colors', 'neighbors', 'round_colors', 'umap', 'variant_colors', 'log1p', 'rank_genes_groups'\n",
       "    obsm: 'X_scVI', 'X_umap'\n",
       "    obsp: 'connectivities', 'distances'"
      ]
     },
     "execution_count": 15,
     "metadata": {},
     "output_type": "execute_result"
    }
   ],
   "source": [
    "ace2"
   ]
  },
  {
   "cell_type": "code",
   "execution_count": 16,
   "id": "satisfied-messenger",
   "metadata": {},
   "outputs": [],
   "source": [
    "result = ace2.uns['rank_genes_groups']\n",
    "groups = result['names'].dtype.names\n",
    "df = pd.DataFrame(\n",
    "    {group + '_' + key[:1]: result[key][group]\n",
    "    for group in groups for key in ['names', 'pvals']})"
   ]
  },
  {
   "cell_type": "code",
   "execution_count": 17,
   "id": "gothic-worth",
   "metadata": {},
   "outputs": [
    {
     "data": {
      "text/plain": [
       "array(['IER2', 'ISG15', 'IFI27', 'EGR1', 'NFKBIA', 'JUN', 'MX1', 'KLF6',\n",
       "       'IFI6', 'IFIT3', 'IFIT1', 'PPP1R15A', 'ELF3', 'IFI44L', 'HES1',\n",
       "       'IRF7', 'MX2', 'TNFAIP3', 'IER3', 'RNF213', 'SLC3A2', 'XAF1',\n",
       "       'NR1D1', 'NEAT1', 'PMAIP1', 'GADD45A', 'JUNB', 'DDIT3', 'OAS3',\n",
       "       'IRF1', 'PLAU', 'STAT1', 'OAS1', 'SQSTM1', 'CCNL1', 'DDX58',\n",
       "       'RSAD2', 'SAMD9', 'ISG20', 'OAS2', 'IFIT2', 'PIM3', 'EIF2AK2',\n",
       "       'NFKBIZ', 'RND3', 'MTRNR2L8', 'PARP14', 'HNRNPDL', 'IFI35',\n",
       "       'DUSP1', 'FOSL1', 'EPSTI1', 'BST2', 'AL627171.2', 'ZNFX1',\n",
       "       'UBE2L6', 'ZC3H12A', 'RSRC2', 'IFI44', 'GADD45B', 'HELZ2', 'GPBP1',\n",
       "       'CSRNP1', 'IFITM3', 'IFITM1', 'ARRDC3', 'DUSP8', 'N4BP1', 'ZBTB43',\n",
       "       'PARP9', 'IFIH1', 'HLA-B', 'CXCL1', 'BHLHE41', 'CXCL8', 'USP18',\n",
       "       'OASL', 'NCOA7', 'CXCL2', 'TNFSF10', 'ABL2', 'PLSCR1', 'TENT5A',\n",
       "       'SP100', 'MYCBP2', 'DAPP1', 'CFLAR', 'PPM1K', 'RAB3IP', 'CHD2',\n",
       "       'SP110', 'TYMP', 'ATF3', 'DDX60', 'CXCL3', 'TRIM38', 'KLF5',\n",
       "       'HIST1H2BG', 'MAST4', 'STAT2'], dtype=object)"
      ]
     },
     "execution_count": 17,
     "metadata": {},
     "output_type": "execute_result"
    }
   ],
   "source": [
    "\n",
    "df['High Infection_n'][:100].values\n"
   ]
  },
  {
   "cell_type": "code",
   "execution_count": 19,
   "id": "outstanding-thesaurus",
   "metadata": {},
   "outputs": [],
   "source": [
    "high_inf_de_genes = df[['High Infection_n', 'High Infection_p']].values\n",
    "\n",
    "np.savetxt(\"7.1_go_analysis_results/round1_ace2only_high_infection_vs_uninfected.csv\", high_inf_de_genes, delimiter=',', fmt='%s')"
   ]
  },
  {
   "cell_type": "code",
   "execution_count": 20,
   "id": "acquired-assignment",
   "metadata": {},
   "outputs": [
    {
     "data": {
      "text/plain": [
       "array([['IER2', 5.233672340753631e-146],\n",
       "       ['ISG15', 7.285809842400044e-136],\n",
       "       ['IFI27', 2.711135934730017e-130],\n",
       "       ...,\n",
       "       ['SEC61G', 5.448729951032407e-145],\n",
       "       ['COMT', 2.595962967082026e-151],\n",
       "       ['NDUFB3', 2.4290561781488093e-200]], dtype=object)"
      ]
     },
     "execution_count": 20,
     "metadata": {},
     "output_type": "execute_result"
    }
   ],
   "source": [
    "high_inf_de_genes"
   ]
  },
  {
   "cell_type": "code",
   "execution_count": 21,
   "id": "polar-billy",
   "metadata": {},
   "outputs": [
    {
     "data": {
      "text/plain": [
       "array(['IER2', 'ISG15', 'IFI27', 'EGR1', 'NFKBIA', 'JUN', 'MX1', 'KLF6',\n",
       "       'IFI6', 'IFIT3', 'IFIT1', 'PPP1R15A', 'ELF3', 'IFI44L', 'HES1',\n",
       "       'IRF7', 'MX2', 'TNFAIP3', 'IER3', 'RNF213', 'SLC3A2', 'XAF1',\n",
       "       'NR1D1', 'NEAT1', 'PMAIP1', 'GADD45A', 'JUNB', 'DDIT3', 'OAS3',\n",
       "       'IRF1', 'PLAU', 'STAT1', 'OAS1', 'SQSTM1', 'CCNL1', 'DDX58',\n",
       "       'RSAD2', 'SAMD9', 'ISG20', 'OAS2', 'IFIT2', 'PIM3', 'EIF2AK2',\n",
       "       'NFKBIZ', 'RND3', 'MTRNR2L8', 'PARP14', 'HNRNPDL', 'IFI35',\n",
       "       'DUSP1', 'FOSL1', 'EPSTI1', 'BST2', 'AL627171.2', 'ZNFX1',\n",
       "       'UBE2L6', 'ZC3H12A', 'RSRC2', 'IFI44', 'GADD45B', 'HELZ2', 'GPBP1',\n",
       "       'CSRNP1', 'IFITM3', 'IFITM1', 'ARRDC3', 'DUSP8', 'N4BP1', 'ZBTB43',\n",
       "       'PARP9', 'IFIH1', 'HLA-B', 'CXCL1', 'BHLHE41', 'CXCL8', 'USP18',\n",
       "       'OASL', 'NCOA7', 'CXCL2', 'TNFSF10', 'ABL2', 'PLSCR1', 'TENT5A',\n",
       "       'SP100', 'MYCBP2', 'DAPP1', 'CFLAR', 'PPM1K', 'RAB3IP', 'CHD2',\n",
       "       'SP110', 'TYMP', 'ATF3', 'DDX60', 'CXCL3', 'TRIM38', 'KLF5',\n",
       "       'HIST1H2BG', 'MAST4', 'STAT2'], dtype=object)"
      ]
     },
     "execution_count": 21,
     "metadata": {},
     "output_type": "execute_result"
    }
   ],
   "source": [
    "df['High Infection_n'][:100].values"
   ]
  },
  {
   "cell_type": "markdown",
   "id": "respected-trout",
   "metadata": {},
   "source": [
    "## Round1 WT: Top GO terms of infection condition vs uninfected condition for ACE2"
   ]
  },
  {
   "cell_type": "code",
   "execution_count": 47,
   "id": "differential-festival",
   "metadata": {},
   "outputs": [],
   "source": [
    "\n",
    "wt = adata[adata.obs['condition']=='WT'].copy()\n"
   ]
  },
  {
   "cell_type": "code",
   "execution_count": 48,
   "id": "sublime-printer",
   "metadata": {},
   "outputs": [],
   "source": [
    "\n",
    "sc.pp.normalize_total(wt, target_sum=1e4)\n",
    "sc.pp.log1p(wt)\n",
    "sc.pp.scale(wt, max_value=10)\n",
    "\n"
   ]
  },
  {
   "cell_type": "code",
   "execution_count": 49,
   "id": "continental-result",
   "metadata": {},
   "outputs": [
    {
     "data": {
      "text/plain": [
       "AnnData object with n_obs × n_vars = 10363 × 36588\n",
       "    obs: 'infection', 'variant', 'condition', 'library_size', 'library_size_log', 'SARS2_genome_ORF1ab_counts', 'SARS2_genome_ORF1ab_log', 'SARS2_genome_S_counts', 'SARS2_genome_S_log', 'SARS2_genome_ORF3a_counts', 'SARS2_genome_ORF3a_log', 'SARS2_genome_E_counts', 'SARS2_genome_E_log', 'SARS2_genome_M_counts', 'SARS2_genome_M_log', 'SARS2_genome_ORF6_counts', 'SARS2_genome_ORF6_log', 'SARS2_genome_ORF7a_counts', 'SARS2_genome_ORF7a_log', 'SARS2_genome_ORF8_counts', 'SARS2_genome_ORF8_log', 'SARS2_genome_N_counts', 'SARS2_genome_N_log', 'SARS2_genome_ORF10_counts', 'SARS2_genome_ORF10_log', 'sars2_total_counts', 'sars2_total_counts_log', 'sars2_lib_size_ratio', 'round', 'condition_variant', 'round_variant_condition', 'n_genes_by_counts', 'total_counts', 'total_counts_mt', 'pct_counts_mt', 'ts_consensus_prediction', 'ts_consensus_percentage', 'knn_on_bbknn_pred', 'knn_on_scvi_offline_pred', 'scanvi_offline_pred', 'svm_pred', 'rf_pred', 'onclass_pred', 'knn_on_scanorama_pred', '_scvi_batch', '_scvi_labels', 'infection_condition', 'gmm_3_infection_individual', 'gmm_3_infection_total', 'gmm_2_infection_individual', 'gmm_2_infection_total', 'gmm_infection', 'infection_gmm', 'infection_gmm_annotated', 'manual_ct_annotation', 'vision_clusters', 'vision_clusters_old', 'r1_vision_clusters_annotated_1', 'r1_vision_clusters_annotated_2', 'r2_vision_clusters_annotated', 'infection_str', 'gmm_infection_annotated', 'condition_manual_ct_annotation'\n",
       "    var: 'mt', 'n_cells_by_counts', 'mean_counts', 'pct_dropout_by_counts', 'total_counts', 'is_sars2_gene', 'mean', 'std'\n",
       "    uns: '_scvi', 'hvg', 'infection_colors', 'neighbors', 'round_colors', 'umap', 'variant_colors', 'log1p'\n",
       "    obsm: 'X_scVI', 'X_umap'\n",
       "    obsp: 'connectivities', 'distances'"
      ]
     },
     "execution_count": 49,
     "metadata": {},
     "output_type": "execute_result"
    }
   ],
   "source": [
    "wt"
   ]
  },
  {
   "cell_type": "code",
   "execution_count": 50,
   "id": "million-romance",
   "metadata": {},
   "outputs": [],
   "source": [
    "sc.tl.pca(wt, svd_solver='arpack')\n"
   ]
  },
  {
   "cell_type": "code",
   "execution_count": 51,
   "id": "personalized-think",
   "metadata": {},
   "outputs": [
    {
     "name": "stderr",
     "output_type": "stream",
     "text": [
      "/home/galen/.pyenv/versions/scvi-dev/lib/python3.8/site-packages/scanpy/tools/_rank_genes_groups.py:420: RuntimeWarning: invalid value encountered in log2\n",
      "  self.stats[group_name, 'logfoldchanges'] = np.log2(\n"
     ]
    },
    {
     "data": {
      "image/png": "[encoded data removed]",
      "text/plain": [
       "<Figure size 432x288 with 1 Axes>"
      ]
     },
     "metadata": {
      "needs_background": "light"
     },
     "output_type": "display_data"
    }
   ],
   "source": [
    "# use this intersection with the IFNs and ISGs from go terms\n",
    "\n",
    "sc.tl.rank_genes_groups(wt, 'infection', method='t-test', groups=['I'], reference = 'U')\n",
    "sc.pl.rank_genes_groups(wt, n_genes=25, sharey=False)"
   ]
  },
  {
   "cell_type": "code",
   "execution_count": 52,
   "id": "suspended-active",
   "metadata": {},
   "outputs": [],
   "source": [
    "result = wt.uns['rank_genes_groups']\n",
    "groups = result['names'].dtype.names\n",
    "df = pd.DataFrame(\n",
    "    {group + '_' + key[:1]: result[key][group]\n",
    "    for group in groups for key in ['names', 'pvals']})"
   ]
  },
  {
   "cell_type": "code",
   "execution_count": 53,
   "id": "adult-fellow",
   "metadata": {},
   "outputs": [
    {
     "data": {
      "text/html": [
       "<div>\n",
       "<style scoped>\n",
       "    .dataframe tbody tr th:only-of-type {\n",
       "        vertical-align: middle;\n",
       "    }\n",
       "\n",
       "    .dataframe tbody tr th {\n",
       "        vertical-align: top;\n",
       "    }\n",
       "\n",
       "    .dataframe thead th {\n",
       "        text-align: right;\n",
       "    }\n",
       "</style>\n",
       "<table border=\"1\" class=\"dataframe\">\n",
       "  <thead>\n",
       "    <tr style=\"text-align: right;\">\n",
       "      <th></th>\n",
       "      <th>I_n</th>\n",
       "      <th>I_p</th>\n",
       "    </tr>\n",
       "  </thead>\n",
       "  <tbody>\n",
       "    <tr>\n",
       "      <th>0</th>\n",
       "      <td>IFI27</td>\n",
       "      <td>1.426020e-204</td>\n",
       "    </tr>\n",
       "    <tr>\n",
       "      <th>1</th>\n",
       "      <td>SNHG25</td>\n",
       "      <td>7.088876e-131</td>\n",
       "    </tr>\n",
       "    <tr>\n",
       "      <th>2</th>\n",
       "      <td>IFI6</td>\n",
       "      <td>1.254694e-112</td>\n",
       "    </tr>\n",
       "    <tr>\n",
       "      <th>3</th>\n",
       "      <td>RBMX</td>\n",
       "      <td>5.216847e-108</td>\n",
       "    </tr>\n",
       "    <tr>\n",
       "      <th>4</th>\n",
       "      <td>PABPC4</td>\n",
       "      <td>3.222110e-97</td>\n",
       "    </tr>\n",
       "    <tr>\n",
       "      <th>...</th>\n",
       "      <td>...</td>\n",
       "      <td>...</td>\n",
       "    </tr>\n",
       "    <tr>\n",
       "      <th>36583</th>\n",
       "      <td>PCBP2</td>\n",
       "      <td>6.375936e-17</td>\n",
       "    </tr>\n",
       "    <tr>\n",
       "      <th>36584</th>\n",
       "      <td>SOX21</td>\n",
       "      <td>3.215110e-18</td>\n",
       "    </tr>\n",
       "    <tr>\n",
       "      <th>36585</th>\n",
       "      <td>GNB2</td>\n",
       "      <td>2.121147e-18</td>\n",
       "    </tr>\n",
       "    <tr>\n",
       "      <th>36586</th>\n",
       "      <td>RB1CC1</td>\n",
       "      <td>6.341397e-19</td>\n",
       "    </tr>\n",
       "    <tr>\n",
       "      <th>36587</th>\n",
       "      <td>PNRC1</td>\n",
       "      <td>7.989338e-22</td>\n",
       "    </tr>\n",
       "  </tbody>\n",
       "</table>\n",
       "<p>36588 rows × 2 columns</p>\n",
       "</div>"
      ],
      "text/plain": [
       "          I_n            I_p\n",
       "0       IFI27  1.426020e-204\n",
       "1      SNHG25  7.088876e-131\n",
       "2        IFI6  1.254694e-112\n",
       "3        RBMX  5.216847e-108\n",
       "4      PABPC4   3.222110e-97\n",
       "...       ...            ...\n",
       "36583   PCBP2   6.375936e-17\n",
       "36584   SOX21   3.215110e-18\n",
       "36585    GNB2   2.121147e-18\n",
       "36586  RB1CC1   6.341397e-19\n",
       "36587   PNRC1   7.989338e-22\n",
       "\n",
       "[36588 rows x 2 columns]"
      ]
     },
     "execution_count": 53,
     "metadata": {},
     "output_type": "execute_result"
    }
   ],
   "source": [
    "df"
   ]
  },
  {
   "cell_type": "code",
   "execution_count": 54,
   "id": "hired-barrier",
   "metadata": {},
   "outputs": [
    {
     "data": {
      "text/plain": [
       "array(['IFI27', 'SNHG25', 'IFI6', 'RBMX', 'PABPC4', 'CETN3', 'NMT1',\n",
       "       'PSMD14', 'PSMC1', 'NELFE', 'CSKMT', 'EIF2S2', 'TCEAL8', 'RBM8A',\n",
       "       'SNHG9', 'IFITM3', 'RPS27L', 'HMOX2', 'TBCA', 'FCF1', 'TUBB4B',\n",
       "       'METAP2', 'HNRNPM', 'PRMT2', 'ZNHIT1', 'NCBP2', 'FAM32A',\n",
       "       'MTRNR2L1', 'SURF6', 'IER2', 'MRPL1', 'BCCIP', 'RPS10', 'GAPDH',\n",
       "       'CBX3', 'SFN', 'TECR', 'NUBP1', 'LARP7', 'ISG15', 'TUBA4A',\n",
       "       'PSME2', 'NDUFB9', 'MCTS1', 'BZW1', 'TUBA1C', 'MPHOSPH6', 'ESRRA',\n",
       "       'KRT6B', 'PSMC3', 'PDAP1', 'HLA-B', 'RNH1', 'RARS', 'JUNB',\n",
       "       'TAGLN2', 'PSMD8', 'S100A16', 'GOLGA2', 'EIF6', 'DKC1', 'ATP5ME',\n",
       "       'ZCCHC10', 'GPX2', 'MRPL12', 'SH3BGRL3', 'PKM', 'POLR2J', 'RAB5C',\n",
       "       'CAPG', 'AP2B1', 'MVD', 'MTRNR2L6', 'MTRNR2L12', 'NCOA5',\n",
       "       'SLC25A39', 'NUP85', 'COPE', 'ANXA2', 'EIF4A1', 'NDUFS7',\n",
       "       'ATP6V0D1', 'ABCF1', 'FDPS', 'IER3', 'TUBB', 'COX5A', 'KRT19',\n",
       "       'NDUFS2', 'PUF60', 'TIMP1', 'MTRNR2L3', 'CYC1', 'NHP2', 'TALDO1',\n",
       "       'PSMA2', 'UTP11', 'CASP4', 'HIGD1A', 'EIF4E2'], dtype=object)"
      ]
     },
     "execution_count": 54,
     "metadata": {},
     "output_type": "execute_result"
    }
   ],
   "source": [
    "df['I_n'][:100].values"
   ]
  },
  {
   "cell_type": "code",
   "execution_count": null,
   "id": "bacterial-fault",
   "metadata": {},
   "outputs": [],
   "source": []
  },
  {
   "cell_type": "code",
   "execution_count": null,
   "id": "upper-pursuit",
   "metadata": {},
   "outputs": [],
   "source": []
  },
  {
   "cell_type": "code",
   "execution_count": null,
   "id": "square-investor",
   "metadata": {},
   "outputs": [],
   "source": []
  }
 ],
 "metadata": {
  "kernelspec": {
   "display_name": "Python 3.8.3 64-bit ('scvi-dev': venv)",
   "language": "python",
   "name": "python38364bitscvidevvenv4fb90fe562ab4b5189ac0b527fd52a97"
  },
  "language_info": {
   "codemirror_mode": {
    "name": "ipython",
    "version": 3
   },
   "file_extension": ".py",
   "mimetype": "text/x-python",
   "name": "python",
   "nbconvert_exporter": "python",
   "pygments_lexer": "ipython3",
   "version": "3.8.3"
  }
 },
 "nbformat": 4,
 "nbformat_minor": 5
}
